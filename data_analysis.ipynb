{
 "cells": [
  {
   "cell_type": "code",
   "execution_count": 60,
   "id": "1961555b-ed39-4d83-8603-64232a685fa4",
   "metadata": {},
   "outputs": [],
   "source": [
    "import pandas as pd\n",
    "import numpy as np\n",
    "import matplotlib.pyplot as plt\n",
    "import seaborn as sns\n",
    "import torch\n",
    "import ast\n",
    "\n",
    "\n",
    "from sklearn.feature_extraction.text import TfidfVectorizer\n",
    "from sklearn.cluster import KMeans\n",
    "\n",
    "from sklearn.manifold import TSNE\n",
    "\n",
    "import warnings\n",
    "warnings.filterwarnings('ignore')\n"
   ]
  },
  {
   "cell_type": "code",
   "execution_count": 4,
   "id": "b22b1248-b058-4c31-958d-163c2f5fbea3",
   "metadata": {},
   "outputs": [],
   "source": [
    "org_ratings = pd.read_csv('data/ratings.csv')\n",
    "\n",
    "org_tags = pd.read_csv('data/tags.csv')\n",
    "org_book_tags = pd.read_csv('data/book_tags.csv')\n",
    "\n",
    "org_books = pd.read_csv('data/books.csv')\n",
    "books_enriched = pd.read_csv('data/books_enriched.csv')\n"
   ]
  },
  {
   "cell_type": "markdown",
   "id": "5cec85db",
   "metadata": {},
   "source": [
    "#### - ratings will be cleaned to include only users with a certain number of ratings.\n",
    "#### - book will be merged with books_enriched to add description, language and genres column\n",
    "#### - the new books dataset will be then merged with a cleaned tags dataset for each book"
   ]
  },
  {
   "cell_type": "code",
   "execution_count": 5,
   "id": "2ddb3aa2",
   "metadata": {},
   "outputs": [],
   "source": [
    "plt.style.use('ggplot')\n",
    "sns.set_theme(style = \"whitegrid\", palette = \"viridis\")"
   ]
  },
  {
   "cell_type": "markdown",
   "id": "2524c38b-07f9-446b-9cf2-3ff7d06665ed",
   "metadata": {},
   "source": [
    "## Ratings\n",
    "\n",
    "Contains nearly 6 million records of user ratings. Each entry includes a user ID, a book ID, and the rating given by the user."
   ]
  },
  {
   "cell_type": "code",
   "execution_count": 6,
   "id": "315f8bf1",
   "metadata": {},
   "outputs": [],
   "source": [
    "ratings = org_ratings"
   ]
  },
  {
   "cell_type": "code",
   "execution_count": 7,
   "id": "9c7859c3-c520-43f0-8faf-6999edd9261a",
   "metadata": {},
   "outputs": [
    {
     "data": {
      "application/vnd.microsoft.datawrangler.viewer.v0+json": {
       "columns": [
        {
         "name": "index",
         "rawType": "int64",
         "type": "integer"
        },
        {
         "name": "user_id",
         "rawType": "int64",
         "type": "integer"
        },
        {
         "name": "book_id",
         "rawType": "int64",
         "type": "integer"
        },
        {
         "name": "rating",
         "rawType": "int64",
         "type": "integer"
        }
       ],
       "conversionMethod": "pd.DataFrame",
       "ref": "bcecb3bf-bdd4-45a2-a814-e347eefcfeba",
       "rows": [
        [
         "0",
         "1",
         "258",
         "5"
        ],
        [
         "1",
         "2",
         "4081",
         "4"
        ],
        [
         "2",
         "2",
         "260",
         "5"
        ],
        [
         "3",
         "2",
         "9296",
         "5"
        ],
        [
         "4",
         "2",
         "2318",
         "3"
        ]
       ],
       "shape": {
        "columns": 3,
        "rows": 5
       }
      },
      "text/html": [
       "<div>\n",
       "<style scoped>\n",
       "    .dataframe tbody tr th:only-of-type {\n",
       "        vertical-align: middle;\n",
       "    }\n",
       "\n",
       "    .dataframe tbody tr th {\n",
       "        vertical-align: top;\n",
       "    }\n",
       "\n",
       "    .dataframe thead th {\n",
       "        text-align: right;\n",
       "    }\n",
       "</style>\n",
       "<table border=\"1\" class=\"dataframe\">\n",
       "  <thead>\n",
       "    <tr style=\"text-align: right;\">\n",
       "      <th></th>\n",
       "      <th>user_id</th>\n",
       "      <th>book_id</th>\n",
       "      <th>rating</th>\n",
       "    </tr>\n",
       "  </thead>\n",
       "  <tbody>\n",
       "    <tr>\n",
       "      <th>0</th>\n",
       "      <td>1</td>\n",
       "      <td>258</td>\n",
       "      <td>5</td>\n",
       "    </tr>\n",
       "    <tr>\n",
       "      <th>1</th>\n",
       "      <td>2</td>\n",
       "      <td>4081</td>\n",
       "      <td>4</td>\n",
       "    </tr>\n",
       "    <tr>\n",
       "      <th>2</th>\n",
       "      <td>2</td>\n",
       "      <td>260</td>\n",
       "      <td>5</td>\n",
       "    </tr>\n",
       "    <tr>\n",
       "      <th>3</th>\n",
       "      <td>2</td>\n",
       "      <td>9296</td>\n",
       "      <td>5</td>\n",
       "    </tr>\n",
       "    <tr>\n",
       "      <th>4</th>\n",
       "      <td>2</td>\n",
       "      <td>2318</td>\n",
       "      <td>3</td>\n",
       "    </tr>\n",
       "  </tbody>\n",
       "</table>\n",
       "</div>"
      ],
      "text/plain": [
       "   user_id  book_id  rating\n",
       "0        1      258       5\n",
       "1        2     4081       4\n",
       "2        2      260       5\n",
       "3        2     9296       5\n",
       "4        2     2318       3"
      ]
     },
     "execution_count": 7,
     "metadata": {},
     "output_type": "execute_result"
    }
   ],
   "source": [
    "ratings.head()"
   ]
  },
  {
   "cell_type": "code",
   "execution_count": 8,
   "id": "6f605ce0",
   "metadata": {},
   "outputs": [
    {
     "data": {
      "text/plain": [
       "(5976479, 3)"
      ]
     },
     "execution_count": 8,
     "metadata": {},
     "output_type": "execute_result"
    }
   ],
   "source": [
    "ratings.shape"
   ]
  },
  {
   "cell_type": "markdown",
   "id": "d32ee3e7",
   "metadata": {},
   "source": [
    "#### Plotting User Review Counts"
   ]
  },
  {
   "cell_type": "code",
   "execution_count": 9,
   "id": "75138c8c-7cda-4937-89c2-99f480483735",
   "metadata": {},
   "outputs": [
    {
     "data": {
      "image/png": "[encoded data removed]",
      "text/plain": [
       "<Figure size 1000x600 with 1 Axes>"
      ]
     },
     "metadata": {},
     "output_type": "display_data"
    }
   ],
   "source": [
    "user_reviews_count = ratings.groupby(\"user_id\").size().reset_index(name=\"num_reviews\")\n",
    "\n",
    "plt.figure(figsize=(10, 6))\n",
    "sns.histplot(user_reviews_count['num_reviews'], bins=50, kde=True, color='skyblue')\n",
    "\n",
    "plt.title(\"Distribution of Number of Reviews per User\")\n",
    "plt.xlabel(\"Number of Reviews\")\n",
    "plt.ylabel(\"Number of Users\")\n",
    "plt.grid(True)\n",
    "plt.show()\n"
   ]
  },
  {
   "cell_type": "markdown",
   "id": "8420e168",
   "metadata": {},
   "source": [
    "## Users\n",
    "\n",
    "So we need to reduce ratings (users) because 6M will lead to extremely sparse amtrix and computational problems."
   ]
  },
  {
   "cell_type": "markdown",
   "id": "b8cc51ff",
   "metadata": {},
   "source": [
    "### Filtering to Active Users ( ≥ 50 Ratings)\n",
    "We only keep users who have rated a certain number of books "
   ]
  },
  {
   "cell_type": "code",
   "execution_count": 10,
   "id": "8d56c0b4-e22a-4869-bfc3-7c50636767e9",
   "metadata": {},
   "outputs": [
    {
     "data": {
      "text/plain": [
       "Text(0.5, 1.0, 'User Distribution by Rating')"
      ]
     },
     "execution_count": 10,
     "metadata": {},
     "output_type": "execute_result"
    },
    {
     "data": {
      "image/png": "[encoded data removed]",
      "text/plain": [
       "<Figure size 500x400 with 1 Axes>"
      ]
     },
     "metadata": {},
     "output_type": "display_data"
    }
   ],
   "source": [
    "plt.figure(figsize=(5, 4))\n",
    "sns.countplot(x = \"rating\", data = ratings)\n",
    "\n",
    "plt.title('User Distribution by Rating')"
   ]
  },
  {
   "cell_type": "markdown",
   "id": "7cdd9e05",
   "metadata": {},
   "source": [
    "most of our users have given positive reviews - most likely because the dataset consists of the top 10k most popular books. "
   ]
  },
  {
   "cell_type": "code",
   "execution_count": 11,
   "id": "68b435bd",
   "metadata": {},
   "outputs": [],
   "source": [
    "user_counts = ratings['user_id'].value_counts()\n",
    "\n",
    "active_users = user_counts[user_counts >= 50].index        # only keep users with more than 50 reviews\n",
    "\n",
    "ratings = ratings[ratings['user_id'].isin(active_users)]"
   ]
  },
  {
   "cell_type": "code",
   "execution_count": 12,
   "id": "423fac96",
   "metadata": {},
   "outputs": [
    {
     "data": {
      "text/plain": [
       "(5942836, 3)"
      ]
     },
     "execution_count": 12,
     "metadata": {},
     "output_type": "execute_result"
    }
   ],
   "source": [
    "ratings.shape"
   ]
  },
  {
   "cell_type": "code",
   "execution_count": 13,
   "id": "931d6502-06dd-40b5-a5ed-d2a90d5425d8",
   "metadata": {},
   "outputs": [
    {
     "name": "stdout",
     "output_type": "stream",
     "text": [
      "Total unique users: 52525\n"
     ]
    }
   ],
   "source": [
    "unique_user_ids = ratings['user_id'].unique()\n",
    "print(\"Total unique users:\", len(unique_user_ids))\n",
    "\n",
    "np.random.seed(42)"
   ]
  },
  {
   "cell_type": "markdown",
   "id": "32cff1be",
   "metadata": {},
   "source": [
    "### Since the number of ratings is too large, we will randomly sample a fraction (20%) of active users"
   ]
  },
  {
   "cell_type": "code",
   "execution_count": 14,
   "id": "afb15cce-74a5-43c5-8b61-25014e1f2fd1",
   "metadata": {},
   "outputs": [
    {
     "name": "stdout",
     "output_type": "stream",
     "text": [
      "Sampled user count: 10505\n"
     ]
    }
   ],
   "source": [
    "# Set the sampling fraction (20%)\n",
    "sample_fraction = 0.20\n",
    "\n",
    "sampled_user_ids = np.random.choice(unique_user_ids, size = int(len(unique_user_ids) * sample_fraction), replace = False)\n",
    "print(\"Sampled user count:\", len(sampled_user_ids))"
   ]
  },
  {
   "cell_type": "code",
   "execution_count": 15,
   "id": "3048dcf2-d856-4a2b-b64a-4ea7d888b4c7",
   "metadata": {},
   "outputs": [
    {
     "name": "stdout",
     "output_type": "stream",
     "text": [
      "Sampled ratings shape: (1185991, 3)\n",
      "Total unique books in sampled ratings: 9999\n"
     ]
    }
   ],
   "source": [
    "# Filter the ratings to keep every rating associated with the randomly chosen users\n",
    "ratings = ratings[ratings['user_id'].isin(sampled_user_ids)]\n",
    "print(\"Sampled ratings shape:\", ratings.shape)\n",
    "\n",
    "sampled_book_ids = ratings['book_id'].unique()\n",
    "print(\"Total unique books in sampled ratings:\", len(sampled_book_ids))"
   ]
  },
  {
   "cell_type": "code",
   "execution_count": 16,
   "id": "2f20f647",
   "metadata": {},
   "outputs": [
    {
     "data": {
      "text/plain": [
       "(1185991, 3)"
      ]
     },
     "execution_count": 16,
     "metadata": {},
     "output_type": "execute_result"
    }
   ],
   "source": [
    "ratings.shape"
   ]
  },
  {
   "cell_type": "code",
   "execution_count": 17,
   "id": "0ccbde69",
   "metadata": {},
   "outputs": [],
   "source": [
    "ratings.to_csv('data/FINAL-RATINGS.csv', index = False)"
   ]
  },
  {
   "cell_type": "code",
   "execution_count": 89,
   "id": "b58b047f",
   "metadata": {},
   "outputs": [
    {
     "name": "stdout",
     "output_type": "stream",
     "text": [
      "Sampled user count: 26262\n",
      "Sampled ratings shape: (587785, 3)\n",
      "Total unique books in sampled ratings: 9997\n"
     ]
    }
   ],
   "source": [
    "# Set the sampling fraction (50%)\n",
    "sample_fraction = 0.50\n",
    "\n",
    "sampled_user_ids = np.random.choice(unique_user_ids, size = int(len(unique_user_ids) * sample_fraction), replace = False)\n",
    "print(\"Sampled user count:\", len(sampled_user_ids))\n",
    "# Filter the ratings to keep every rating associated with the randomly chosen users\n",
    "ratings = ratings[ratings['user_id'].isin(sampled_user_ids)]\n",
    "print(\"Sampled ratings shape:\", ratings.shape)\n",
    "\n",
    "sampled_book_ids = ratings['book_id'].unique()\n",
    "print(\"Total unique books in sampled ratings:\", len(sampled_book_ids))\n",
    "ratings.shape\n",
    "ratings.to_csv('data/FINAL-RATINGS-50.csv', index = False)"
   ]
  },
  {
   "cell_type": "markdown",
   "id": "4240ec89-2972-4c0f-84ea-9dbf6c736acf",
   "metadata": {},
   "source": [
    "## Tags\n",
    "Maps tag IDs to tag names. \n"
   ]
  },
  {
   "cell_type": "code",
   "execution_count": 18,
   "id": "8c5f4d3b",
   "metadata": {},
   "outputs": [],
   "source": [
    "tags = org_tags"
   ]
  },
  {
   "cell_type": "code",
   "execution_count": 19,
   "id": "ddbfa52f-320f-4093-9550-74068dbc9516",
   "metadata": {},
   "outputs": [
    {
     "data": {
      "application/vnd.microsoft.datawrangler.viewer.v0+json": {
       "columns": [
        {
         "name": "index",
         "rawType": "int64",
         "type": "integer"
        },
        {
         "name": "tag_id",
         "rawType": "int64",
         "type": "integer"
        },
        {
         "name": "tag_name",
         "rawType": "object",
         "type": "string"
        }
       ],
       "conversionMethod": "pd.DataFrame",
       "ref": "c86bae75-6ad8-4289-b510-9a10eed704d3",
       "rows": [
        [
         "0",
         "0",
         "-"
        ],
        [
         "1",
         "1",
         "--1-"
        ],
        [
         "2",
         "2",
         "--10-"
        ],
        [
         "3",
         "3",
         "--12-"
        ],
        [
         "4",
         "4",
         "--122-"
        ]
       ],
       "shape": {
        "columns": 2,
        "rows": 5
       }
      },
      "text/html": [
       "<div>\n",
       "<style scoped>\n",
       "    .dataframe tbody tr th:only-of-type {\n",
       "        vertical-align: middle;\n",
       "    }\n",
       "\n",
       "    .dataframe tbody tr th {\n",
       "        vertical-align: top;\n",
       "    }\n",
       "\n",
       "    .dataframe thead th {\n",
       "        text-align: right;\n",
       "    }\n",
       "</style>\n",
       "<table border=\"1\" class=\"dataframe\">\n",
       "  <thead>\n",
       "    <tr style=\"text-align: right;\">\n",
       "      <th></th>\n",
       "      <th>tag_id</th>\n",
       "      <th>tag_name</th>\n",
       "    </tr>\n",
       "  </thead>\n",
       "  <tbody>\n",
       "    <tr>\n",
       "      <th>0</th>\n",
       "      <td>0</td>\n",
       "      <td>-</td>\n",
       "    </tr>\n",
       "    <tr>\n",
       "      <th>1</th>\n",
       "      <td>1</td>\n",
       "      <td>--1-</td>\n",
       "    </tr>\n",
       "    <tr>\n",
       "      <th>2</th>\n",
       "      <td>2</td>\n",
       "      <td>--10-</td>\n",
       "    </tr>\n",
       "    <tr>\n",
       "      <th>3</th>\n",
       "      <td>3</td>\n",
       "      <td>--12-</td>\n",
       "    </tr>\n",
       "    <tr>\n",
       "      <th>4</th>\n",
       "      <td>4</td>\n",
       "      <td>--122-</td>\n",
       "    </tr>\n",
       "  </tbody>\n",
       "</table>\n",
       "</div>"
      ],
      "text/plain": [
       "   tag_id tag_name\n",
       "0       0        -\n",
       "1       1     --1-\n",
       "2       2    --10-\n",
       "3       3    --12-\n",
       "4       4   --122-"
      ]
     },
     "execution_count": 19,
     "metadata": {},
     "output_type": "execute_result"
    }
   ],
   "source": [
    "tags.head()"
   ]
  },
  {
   "cell_type": "markdown",
   "id": "d8badbc2-04d8-4a15-bc81-e9bf79807342",
   "metadata": {},
   "source": [
    "## Book Tags\n",
    "\n",
    "Establishes a many-to-many relationship between books and tags. Nearly 1 million entries with various tagging combinations across 10k books.\n"
   ]
  },
  {
   "cell_type": "code",
   "execution_count": 20,
   "id": "b0652760",
   "metadata": {},
   "outputs": [],
   "source": [
    "book_tags = org_book_tags"
   ]
  },
  {
   "cell_type": "code",
   "execution_count": 21,
   "id": "d339fbf3-c88f-4ef6-a6ed-0c8a6c3d594d",
   "metadata": {},
   "outputs": [
    {
     "data": {
      "application/vnd.microsoft.datawrangler.viewer.v0+json": {
       "columns": [
        {
         "name": "index",
         "rawType": "int64",
         "type": "integer"
        },
        {
         "name": "goodreads_book_id",
         "rawType": "int64",
         "type": "integer"
        },
        {
         "name": "tag_id",
         "rawType": "int64",
         "type": "integer"
        },
        {
         "name": "count",
         "rawType": "int64",
         "type": "integer"
        }
       ],
       "conversionMethod": "pd.DataFrame",
       "ref": "369e5546-b7b5-48f8-9135-051af3b08e54",
       "rows": [
        [
         "0",
         "1",
         "30574",
         "167697"
        ],
        [
         "1",
         "1",
         "11305",
         "37174"
        ],
        [
         "2",
         "1",
         "11557",
         "34173"
        ],
        [
         "3",
         "1",
         "8717",
         "12986"
        ],
        [
         "4",
         "1",
         "33114",
         "12716"
        ]
       ],
       "shape": {
        "columns": 3,
        "rows": 5
       }
      },
      "text/html": [
       "<div>\n",
       "<style scoped>\n",
       "    .dataframe tbody tr th:only-of-type {\n",
       "        vertical-align: middle;\n",
       "    }\n",
       "\n",
       "    .dataframe tbody tr th {\n",
       "        vertical-align: top;\n",
       "    }\n",
       "\n",
       "    .dataframe thead th {\n",
       "        text-align: right;\n",
       "    }\n",
       "</style>\n",
       "<table border=\"1\" class=\"dataframe\">\n",
       "  <thead>\n",
       "    <tr style=\"text-align: right;\">\n",
       "      <th></th>\n",
       "      <th>goodreads_book_id</th>\n",
       "      <th>tag_id</th>\n",
       "      <th>count</th>\n",
       "    </tr>\n",
       "  </thead>\n",
       "  <tbody>\n",
       "    <tr>\n",
       "      <th>0</th>\n",
       "      <td>1</td>\n",
       "      <td>30574</td>\n",
       "      <td>167697</td>\n",
       "    </tr>\n",
       "    <tr>\n",
       "      <th>1</th>\n",
       "      <td>1</td>\n",
       "      <td>11305</td>\n",
       "      <td>37174</td>\n",
       "    </tr>\n",
       "    <tr>\n",
       "      <th>2</th>\n",
       "      <td>1</td>\n",
       "      <td>11557</td>\n",
       "      <td>34173</td>\n",
       "    </tr>\n",
       "    <tr>\n",
       "      <th>3</th>\n",
       "      <td>1</td>\n",
       "      <td>8717</td>\n",
       "      <td>12986</td>\n",
       "    </tr>\n",
       "    <tr>\n",
       "      <th>4</th>\n",
       "      <td>1</td>\n",
       "      <td>33114</td>\n",
       "      <td>12716</td>\n",
       "    </tr>\n",
       "  </tbody>\n",
       "</table>\n",
       "</div>"
      ],
      "text/plain": [
       "   goodreads_book_id  tag_id   count\n",
       "0                  1   30574  167697\n",
       "1                  1   11305   37174\n",
       "2                  1   11557   34173\n",
       "3                  1    8717   12986\n",
       "4                  1   33114   12716"
      ]
     },
     "execution_count": 21,
     "metadata": {},
     "output_type": "execute_result"
    }
   ],
   "source": [
    "book_tags.head()"
   ]
  },
  {
   "cell_type": "code",
   "execution_count": 22,
   "id": "9bba4390-a074-4575-8a79-bda4f74b6ef9",
   "metadata": {},
   "outputs": [
    {
     "name": "stdout",
     "output_type": "stream",
     "text": [
      "<class 'pandas.core.frame.DataFrame'>\n",
      "RangeIndex: 999912 entries, 0 to 999911\n",
      "Data columns (total 3 columns):\n",
      " #   Column             Non-Null Count   Dtype\n",
      "---  ------             --------------   -----\n",
      " 0   goodreads_book_id  999912 non-null  int64\n",
      " 1   tag_id             999912 non-null  int64\n",
      " 2   count              999912 non-null  int64\n",
      "dtypes: int64(3)\n",
      "memory usage: 22.9 MB\n"
     ]
    }
   ],
   "source": [
    "book_tags.info()"
   ]
  },
  {
   "cell_type": "markdown",
   "id": "29b2c078",
   "metadata": {},
   "source": [
    "#### So we have 10,000 books and their corresponding tags and ratings from nearly 6M users."
   ]
  },
  {
   "cell_type": "markdown",
   "id": "ef3a16bb",
   "metadata": {},
   "source": [
    "## Book tags and tags"
   ]
  },
  {
   "cell_type": "markdown",
   "id": "7c937ab1",
   "metadata": {},
   "source": [
    "### Merging Tags with Book_tags\n",
    "\n",
    "##### Since tag_id is a common column between 'book_tags.csv' datsaset and 'tags.csv', we can merge the two dataset based on the tag_ids\n"
   ]
  },
  {
   "cell_type": "code",
   "execution_count": 23,
   "id": "7a51af60",
   "metadata": {},
   "outputs": [],
   "source": [
    "book_tags = book_tags.drop_duplicates() # to remove repeated book–tag links"
   ]
  },
  {
   "cell_type": "code",
   "execution_count": 24,
   "id": "631e0892",
   "metadata": {},
   "outputs": [],
   "source": [
    "tags = book_tags.merge(tags, on = 'tag_id') # merge on tag_id to bring in tag_name."
   ]
  },
  {
   "cell_type": "code",
   "execution_count": 25,
   "id": "255e3166",
   "metadata": {},
   "outputs": [
    {
     "data": {
      "application/vnd.microsoft.datawrangler.viewer.v0+json": {
       "columns": [
        {
         "name": "index",
         "rawType": "int64",
         "type": "integer"
        },
        {
         "name": "goodreads_book_id",
         "rawType": "int64",
         "type": "integer"
        },
        {
         "name": "tag_id",
         "rawType": "int64",
         "type": "integer"
        },
        {
         "name": "count",
         "rawType": "int64",
         "type": "integer"
        },
        {
         "name": "tag_name",
         "rawType": "object",
         "type": "string"
        }
       ],
       "conversionMethod": "pd.DataFrame",
       "ref": "b15029d4-c599-45e0-9bd3-a3f0e5391261",
       "rows": [
        [
         "0",
         "1",
         "30574",
         "167697",
         "to-read"
        ],
        [
         "1",
         "1",
         "11305",
         "37174",
         "fantasy"
        ],
        [
         "2",
         "1",
         "11557",
         "34173",
         "favorites"
        ],
        [
         "3",
         "1",
         "8717",
         "12986",
         "currently-reading"
        ],
        [
         "4",
         "1",
         "33114",
         "12716",
         "young-adult"
        ]
       ],
       "shape": {
        "columns": 4,
        "rows": 5
       }
      },
      "text/html": [
       "<div>\n",
       "<style scoped>\n",
       "    .dataframe tbody tr th:only-of-type {\n",
       "        vertical-align: middle;\n",
       "    }\n",
       "\n",
       "    .dataframe tbody tr th {\n",
       "        vertical-align: top;\n",
       "    }\n",
       "\n",
       "    .dataframe thead th {\n",
       "        text-align: right;\n",
       "    }\n",
       "</style>\n",
       "<table border=\"1\" class=\"dataframe\">\n",
       "  <thead>\n",
       "    <tr style=\"text-align: right;\">\n",
       "      <th></th>\n",
       "      <th>goodreads_book_id</th>\n",
       "      <th>tag_id</th>\n",
       "      <th>count</th>\n",
       "      <th>tag_name</th>\n",
       "    </tr>\n",
       "  </thead>\n",
       "  <tbody>\n",
       "    <tr>\n",
       "      <th>0</th>\n",
       "      <td>1</td>\n",
       "      <td>30574</td>\n",
       "      <td>167697</td>\n",
       "      <td>to-read</td>\n",
       "    </tr>\n",
       "    <tr>\n",
       "      <th>1</th>\n",
       "      <td>1</td>\n",
       "      <td>11305</td>\n",
       "      <td>37174</td>\n",
       "      <td>fantasy</td>\n",
       "    </tr>\n",
       "    <tr>\n",
       "      <th>2</th>\n",
       "      <td>1</td>\n",
       "      <td>11557</td>\n",
       "      <td>34173</td>\n",
       "      <td>favorites</td>\n",
       "    </tr>\n",
       "    <tr>\n",
       "      <th>3</th>\n",
       "      <td>1</td>\n",
       "      <td>8717</td>\n",
       "      <td>12986</td>\n",
       "      <td>currently-reading</td>\n",
       "    </tr>\n",
       "    <tr>\n",
       "      <th>4</th>\n",
       "      <td>1</td>\n",
       "      <td>33114</td>\n",
       "      <td>12716</td>\n",
       "      <td>young-adult</td>\n",
       "    </tr>\n",
       "  </tbody>\n",
       "</table>\n",
       "</div>"
      ],
      "text/plain": [
       "   goodreads_book_id  tag_id   count           tag_name\n",
       "0                  1   30574  167697            to-read\n",
       "1                  1   11305   37174            fantasy\n",
       "2                  1   11557   34173          favorites\n",
       "3                  1    8717   12986  currently-reading\n",
       "4                  1   33114   12716        young-adult"
      ]
     },
     "execution_count": 25,
     "metadata": {},
     "output_type": "execute_result"
    }
   ],
   "source": [
    "tags.head()"
   ]
  },
  {
   "cell_type": "code",
   "execution_count": 26,
   "id": "5774429c",
   "metadata": {},
   "outputs": [],
   "source": [
    "# merge on goodreads_book_id to bring in book titles\n",
    "books = org_books\n",
    "new_tags = tags.merge(books[['goodreads_book_id', 'title']], on = 'goodreads_book_id')"
   ]
  },
  {
   "cell_type": "code",
   "execution_count": 27,
   "id": "270881ab",
   "metadata": {},
   "outputs": [
    {
     "data": {
      "application/vnd.microsoft.datawrangler.viewer.v0+json": {
       "columns": [
        {
         "name": "index",
         "rawType": "int64",
         "type": "integer"
        },
        {
         "name": "goodreads_book_id",
         "rawType": "int64",
         "type": "integer"
        },
        {
         "name": "tag_id",
         "rawType": "int64",
         "type": "integer"
        },
        {
         "name": "count",
         "rawType": "int64",
         "type": "integer"
        },
        {
         "name": "tag_name",
         "rawType": "object",
         "type": "string"
        },
        {
         "name": "title",
         "rawType": "object",
         "type": "string"
        }
       ],
       "conversionMethod": "pd.DataFrame",
       "ref": "fcaf4ef9-7d22-4b53-aece-d8c233c983f4",
       "rows": [
        [
         "0",
         "1",
         "30574",
         "167697",
         "to-read",
         "Harry Potter and the Half-Blood Prince (Harry Potter, #6)"
        ],
        [
         "1",
         "1",
         "11305",
         "37174",
         "fantasy",
         "Harry Potter and the Half-Blood Prince (Harry Potter, #6)"
        ],
        [
         "2",
         "1",
         "11557",
         "34173",
         "favorites",
         "Harry Potter and the Half-Blood Prince (Harry Potter, #6)"
        ],
        [
         "3",
         "1",
         "8717",
         "12986",
         "currently-reading",
         "Harry Potter and the Half-Blood Prince (Harry Potter, #6)"
        ],
        [
         "4",
         "1",
         "33114",
         "12716",
         "young-adult",
         "Harry Potter and the Half-Blood Prince (Harry Potter, #6)"
        ]
       ],
       "shape": {
        "columns": 5,
        "rows": 5
       }
      },
      "text/html": [
       "<div>\n",
       "<style scoped>\n",
       "    .dataframe tbody tr th:only-of-type {\n",
       "        vertical-align: middle;\n",
       "    }\n",
       "\n",
       "    .dataframe tbody tr th {\n",
       "        vertical-align: top;\n",
       "    }\n",
       "\n",
       "    .dataframe thead th {\n",
       "        text-align: right;\n",
       "    }\n",
       "</style>\n",
       "<table border=\"1\" class=\"dataframe\">\n",
       "  <thead>\n",
       "    <tr style=\"text-align: right;\">\n",
       "      <th></th>\n",
       "      <th>goodreads_book_id</th>\n",
       "      <th>tag_id</th>\n",
       "      <th>count</th>\n",
       "      <th>tag_name</th>\n",
       "      <th>title</th>\n",
       "    </tr>\n",
       "  </thead>\n",
       "  <tbody>\n",
       "    <tr>\n",
       "      <th>0</th>\n",
       "      <td>1</td>\n",
       "      <td>30574</td>\n",
       "      <td>167697</td>\n",
       "      <td>to-read</td>\n",
       "      <td>Harry Potter and the Half-Blood Prince (Harry ...</td>\n",
       "    </tr>\n",
       "    <tr>\n",
       "      <th>1</th>\n",
       "      <td>1</td>\n",
       "      <td>11305</td>\n",
       "      <td>37174</td>\n",
       "      <td>fantasy</td>\n",
       "      <td>Harry Potter and the Half-Blood Prince (Harry ...</td>\n",
       "    </tr>\n",
       "    <tr>\n",
       "      <th>2</th>\n",
       "      <td>1</td>\n",
       "      <td>11557</td>\n",
       "      <td>34173</td>\n",
       "      <td>favorites</td>\n",
       "      <td>Harry Potter and the Half-Blood Prince (Harry ...</td>\n",
       "    </tr>\n",
       "    <tr>\n",
       "      <th>3</th>\n",
       "      <td>1</td>\n",
       "      <td>8717</td>\n",
       "      <td>12986</td>\n",
       "      <td>currently-reading</td>\n",
       "      <td>Harry Potter and the Half-Blood Prince (Harry ...</td>\n",
       "    </tr>\n",
       "    <tr>\n",
       "      <th>4</th>\n",
       "      <td>1</td>\n",
       "      <td>33114</td>\n",
       "      <td>12716</td>\n",
       "      <td>young-adult</td>\n",
       "      <td>Harry Potter and the Half-Blood Prince (Harry ...</td>\n",
       "    </tr>\n",
       "  </tbody>\n",
       "</table>\n",
       "</div>"
      ],
      "text/plain": [
       "   goodreads_book_id  tag_id   count           tag_name  \\\n",
       "0                  1   30574  167697            to-read   \n",
       "1                  1   11305   37174            fantasy   \n",
       "2                  1   11557   34173          favorites   \n",
       "3                  1    8717   12986  currently-reading   \n",
       "4                  1   33114   12716        young-adult   \n",
       "\n",
       "                                               title  \n",
       "0  Harry Potter and the Half-Blood Prince (Harry ...  \n",
       "1  Harry Potter and the Half-Blood Prince (Harry ...  \n",
       "2  Harry Potter and the Half-Blood Prince (Harry ...  \n",
       "3  Harry Potter and the Half-Blood Prince (Harry ...  \n",
       "4  Harry Potter and the Half-Blood Prince (Harry ...  "
      ]
     },
     "execution_count": 27,
     "metadata": {},
     "output_type": "execute_result"
    }
   ],
   "source": [
    "new_tags.head()"
   ]
  },
  {
   "cell_type": "code",
   "execution_count": 31,
   "id": "aef7eb4f",
   "metadata": {},
   "outputs": [
    {
     "data": {
      "application/vnd.microsoft.datawrangler.viewer.v0+json": {
       "columns": [
        {
         "name": "index",
         "rawType": "int64",
         "type": "integer"
        },
        {
         "name": "goodreads_book_id",
         "rawType": "int64",
         "type": "integer"
        },
        {
         "name": "tag_id",
         "rawType": "int64",
         "type": "integer"
        },
        {
         "name": "count",
         "rawType": "int64",
         "type": "integer"
        },
        {
         "name": "tag_name",
         "rawType": "object",
         "type": "string"
        },
        {
         "name": "title",
         "rawType": "object",
         "type": "string"
        }
       ],
       "conversionMethod": "pd.DataFrame",
       "ref": "fc7baa57-e0bc-4101-b8cd-186740144cf5",
       "rows": [
        [
         "0",
         "1",
         "30574",
         "167697",
         "to-read",
         "Harry Potter and the Half-Blood Prince (Harry Potter, #6)"
        ],
        [
         "1",
         "1",
         "11305",
         "37174",
         "fantasy",
         "Harry Potter and the Half-Blood Prince (Harry Potter, #6)"
        ],
        [
         "2",
         "1",
         "11557",
         "34173",
         "favorites",
         "Harry Potter and the Half-Blood Prince (Harry Potter, #6)"
        ],
        [
         "3",
         "1",
         "8717",
         "12986",
         "currently-reading",
         "Harry Potter and the Half-Blood Prince (Harry Potter, #6)"
        ],
        [
         "4",
         "1",
         "33114",
         "12716",
         "young-adult",
         "Harry Potter and the Half-Blood Prince (Harry Potter, #6)"
        ]
       ],
       "shape": {
        "columns": 5,
        "rows": 5
       }
      },
      "text/html": [
       "<div>\n",
       "<style scoped>\n",
       "    .dataframe tbody tr th:only-of-type {\n",
       "        vertical-align: middle;\n",
       "    }\n",
       "\n",
       "    .dataframe tbody tr th {\n",
       "        vertical-align: top;\n",
       "    }\n",
       "\n",
       "    .dataframe thead th {\n",
       "        text-align: right;\n",
       "    }\n",
       "</style>\n",
       "<table border=\"1\" class=\"dataframe\">\n",
       "  <thead>\n",
       "    <tr style=\"text-align: right;\">\n",
       "      <th></th>\n",
       "      <th>goodreads_book_id</th>\n",
       "      <th>tag_id</th>\n",
       "      <th>count</th>\n",
       "      <th>tag_name</th>\n",
       "      <th>title</th>\n",
       "    </tr>\n",
       "  </thead>\n",
       "  <tbody>\n",
       "    <tr>\n",
       "      <th>0</th>\n",
       "      <td>1</td>\n",
       "      <td>30574</td>\n",
       "      <td>167697</td>\n",
       "      <td>to-read</td>\n",
       "      <td>Harry Potter and the Half-Blood Prince (Harry ...</td>\n",
       "    </tr>\n",
       "    <tr>\n",
       "      <th>1</th>\n",
       "      <td>1</td>\n",
       "      <td>11305</td>\n",
       "      <td>37174</td>\n",
       "      <td>fantasy</td>\n",
       "      <td>Harry Potter and the Half-Blood Prince (Harry ...</td>\n",
       "    </tr>\n",
       "    <tr>\n",
       "      <th>2</th>\n",
       "      <td>1</td>\n",
       "      <td>11557</td>\n",
       "      <td>34173</td>\n",
       "      <td>favorites</td>\n",
       "      <td>Harry Potter and the Half-Blood Prince (Harry ...</td>\n",
       "    </tr>\n",
       "    <tr>\n",
       "      <th>3</th>\n",
       "      <td>1</td>\n",
       "      <td>8717</td>\n",
       "      <td>12986</td>\n",
       "      <td>currently-reading</td>\n",
       "      <td>Harry Potter and the Half-Blood Prince (Harry ...</td>\n",
       "    </tr>\n",
       "    <tr>\n",
       "      <th>4</th>\n",
       "      <td>1</td>\n",
       "      <td>33114</td>\n",
       "      <td>12716</td>\n",
       "      <td>young-adult</td>\n",
       "      <td>Harry Potter and the Half-Blood Prince (Harry ...</td>\n",
       "    </tr>\n",
       "  </tbody>\n",
       "</table>\n",
       "</div>"
      ],
      "text/plain": [
       "   goodreads_book_id  tag_id   count           tag_name  \\\n",
       "0                  1   30574  167697            to-read   \n",
       "1                  1   11305   37174            fantasy   \n",
       "2                  1   11557   34173          favorites   \n",
       "3                  1    8717   12986  currently-reading   \n",
       "4                  1   33114   12716        young-adult   \n",
       "\n",
       "                                               title  \n",
       "0  Harry Potter and the Half-Blood Prince (Harry ...  \n",
       "1  Harry Potter and the Half-Blood Prince (Harry ...  \n",
       "2  Harry Potter and the Half-Blood Prince (Harry ...  \n",
       "3  Harry Potter and the Half-Blood Prince (Harry ...  \n",
       "4  Harry Potter and the Half-Blood Prince (Harry ...  "
      ]
     },
     "execution_count": 31,
     "metadata": {},
     "output_type": "execute_result"
    }
   ],
   "source": [
    "new_tags.head()"
   ]
  },
  {
   "cell_type": "code",
   "execution_count": 32,
   "id": "ad0cba6c",
   "metadata": {},
   "outputs": [],
   "source": [
    "tags = new_tags"
   ]
  },
  {
   "cell_type": "code",
   "execution_count": 33,
   "id": "a750642e",
   "metadata": {},
   "outputs": [
    {
     "data": {
      "text/plain": [
       "(999906, 5)"
      ]
     },
     "execution_count": 33,
     "metadata": {},
     "output_type": "execute_result"
    }
   ],
   "source": [
    "tags.shape"
   ]
  },
  {
   "cell_type": "code",
   "execution_count": 34,
   "id": "e33f7219",
   "metadata": {},
   "outputs": [],
   "source": [
    "tags_copy = tags.copy()"
   ]
  },
  {
   "cell_type": "code",
   "execution_count": 35,
   "id": "262b5995",
   "metadata": {},
   "outputs": [
    {
     "name": "stdout",
     "output_type": "stream",
     "text": [
      "count         34,252.00\n",
      "mean           6,097.49\n",
      "std          762,709.17\n",
      "min               -1.00\n",
      "25%                3.00\n",
      "50%               10.00\n",
      "75%               52.00\n",
      "max      140,718,761.00\n",
      "Name: count, dtype: object\n"
     ]
    }
   ],
   "source": [
    "tag_usage = tags.groupby(\"tag_name\")[\"count\"].sum()\n",
    "\n",
    "stats = tag_usage.describe().apply(lambda x: f\"{x:,.2f}\")\n",
    "print(stats)\n"
   ]
  },
  {
   "cell_type": "code",
   "execution_count": 36,
   "id": "0e81fc48",
   "metadata": {},
   "outputs": [],
   "source": [
    "# remove entries with a count of -1\n",
    "filtered_usage = tag_usage[tag_usage != -1]"
   ]
  },
  {
   "cell_type": "code",
   "execution_count": 37,
   "id": "0e1f8636",
   "metadata": {},
   "outputs": [],
   "source": [
    "tag_counts = tags.groupby('tag_name')['goodreads_book_id'].nunique()\n",
    "popular_tags = tag_counts[tag_counts >= 300].index\n",
    "tags = tags[tags['tag_name'].isin(popular_tags)]\n",
    "\n",
    "# only keep tags used for atleast 300 books"
   ]
  },
  {
   "cell_type": "code",
   "execution_count": 38,
   "id": "6d8262ec",
   "metadata": {},
   "outputs": [
    {
     "data": {
      "text/plain": [
       "(710695, 5)"
      ]
     },
     "execution_count": 38,
     "metadata": {},
     "output_type": "execute_result"
    }
   ],
   "source": [
    "tags.shape"
   ]
  },
  {
   "cell_type": "markdown",
   "id": "e9e7f5b7",
   "metadata": {},
   "source": [
    "#### Let's take a look at the most Popular and Rare Tags"
   ]
  },
  {
   "cell_type": "code",
   "execution_count": 39,
   "id": "d7702018",
   "metadata": {},
   "outputs": [
    {
     "data": {
      "text/plain": [
       "tag_name\n",
       "to-read              9983\n",
       "favorites            9881\n",
       "owned                9858\n",
       "books-i-own          9799\n",
       "currently-reading    9776\n",
       "library              9415\n",
       "owned-books          9221\n",
       "fiction              9097\n",
       "to-buy               8692\n",
       "kindle               8316\n",
       "Name: tag_name, dtype: int64"
      ]
     },
     "execution_count": 39,
     "metadata": {},
     "output_type": "execute_result"
    }
   ],
   "source": [
    "tag_counts = tags.groupby('tag_name').tag_name.count().sort_values(ascending = False)\n",
    "tag_counts.head(10)"
   ]
  },
  {
   "cell_type": "markdown",
   "id": "68b2102a",
   "metadata": {},
   "source": [
    "#### Least popular tags (usage > 300)"
   ]
  },
  {
   "cell_type": "code",
   "execution_count": 40,
   "id": "abd621f9",
   "metadata": {},
   "outputs": [
    {
     "data": {
      "text/plain": [
       "tag_name\n",
       "futuristic         300\n",
       "hot                300\n",
       "guilty-pleasure    303\n",
       "faith              305\n",
       "read-as-a-child    305\n",
       "werewolves         306\n",
       "1001-to-read       307\n",
       "partially-read     308\n",
       "award-winners      308\n",
       "space              308\n",
       "Name: tag_name, dtype: int64"
      ]
     },
     "execution_count": 40,
     "metadata": {},
     "output_type": "execute_result"
    }
   ],
   "source": [
    "tag_counts = tags.groupby('tag_name').tag_name.count().sort_values(ascending = True)\n",
    "tag_counts.head(10)"
   ]
  },
  {
   "cell_type": "markdown",
   "id": "e3ca6aff",
   "metadata": {},
   "source": [
    "##### there's a lot of repetition of similar tags. Let's try to cluster similar tags together using k-means and tf-idf."
   ]
  },
  {
   "cell_type": "markdown",
   "id": "337dfca1",
   "metadata": {},
   "source": [
    "#### Agenda: \n",
    "- Distill the number of tags \n",
    "\n",
    "- concat cleaned tags under one column\n",
    "\n",
    "##### Steps:\n",
    " - remove less used tags - done by only keeping tags used for atleast 300 books\n",
    "\n",
    " - try to cluster similar tags using porter stemmer (did not work)\n",
    "\n",
    "    - Alt: using TF-iDF and k-means clustering to create groups of tags then using those to create groups of tags"
   ]
  },
  {
   "cell_type": "code",
   "execution_count": 41,
   "id": "17e1afaa",
   "metadata": {},
   "outputs": [
    {
     "name": "stdout",
     "output_type": "stream",
     "text": [
      "List of all unique tags:\n",
      "['1', '1001', '1001-books', '1001-books-to-read', '1001-books-to-read-before-you-die', '1001-books-you-must-read-before-you', '1001-import', '1001-to-read', '1990s', '19th-century', '2000s', '2005', '2006', '2011-reads', '2012-reads', '2013-books', '2013-read', '2013-reads', '2014-books', '2014-read', '2014-reads', '2015-books', '2015-read', '2015-reading-challenge', '2015-reads', '2016-books', '2016-read', '2016-reading-challenge', '2016-reads', '2017-books', '2017-reading-challenge', '2017-reads', '20th-century', '21st-century', '3-stars', '4-stars', '5-star', '5-stars', 'abandoned', 'abuse', 'action', 'action-adventure', 'adult', 'adult-fiction', 'adult-non-fiction', 'adult-nonfiction', 'adult-romance', 'adventure', 'all-time-favorites', 'alpha-male', 'already-read', 'america', 'american', 'american-history', 'american-lit', 'american-literature', 'animals', 'arc', 'art', 'asia', 'audible', 'audio', 'audio-book', 'audio-books', 'audiobook', 'audiobooks', 'autobiography', 'autobiography-memoir', 'award-winners', 'bio', 'bio-memoir', 'biographical', 'biographies', 'biographies-memoirs', 'biography', 'biography-autobiography', 'biography-memoir', 'book', 'book-boyfriend', 'book-boyfriends', 'book-club', 'book-club-books', 'book-club-reads', 'book-group', 'bookclub', 'books', 'books-i-have', 'books-i-own', 'books-owned', 'books-read-in-2015', 'books-read-in-2016', 'books-to-buy', 'bookshelf', 'borrowed', 'bought', 'brit-lit', 'british', 'british-literature', 'business', 'calibre', 'chapter-books', 'chic-lit', 'chick-lit', 'chicklit', 'childhood', 'childhood-books', 'childhood-favorites', 'childhood-reads', 'children', 'children-books', 'children-s', 'children-s-book', 'children-s-books', 'children-s-fiction', 'children-s-lit', 'children-s-literature', 'children-ya', 'children-young-adult', 'childrens', 'childrens-books', 'childrens-fiction', 'childrens-lit', 'childrens-literature', 'christian', 'classic', 'classic-fiction', 'classic-lit', 'classic-literature', 'classics', 'classics-to-read', 'classroom-library', 'collection', 'college', 'comedy', 'comic', 'comic-books', 'comics', 'comics-and-graphic-novels', 'comics-graphic-novels', 'comics-manga', 'coming-of-age', 'completed-series', 'contemporary', 'contemporary-fiction', 'contemporary-romance', 'could-not-finish', 'couldn-t-finish', 'crime', 'crime-fiction', 'crime-mystery', 'crime-mystery-thriller', 'crime-thriller', 'cultural', 'culture', 'currently-reading', 'dark', 'dark-fantasy', 'death', 'default', 'demons', 'detective', 'did-not-finish', 'didn-t-finish', 'dnf', 'drama', 'dystopia', 'dystopian', 'e-book', 'e-books', 'ebook', 'ebooks', 'education', 'elementary', 'england', 'english', 'english-literature', 'epic', 'epic-fantasy', 'erotic', 'erotic-romance', 'erotica', 'espionage', 'essays', 'europe', 'faith', 'family', 'family-relationships', 'fantasy', 'fantasy-fiction', 'fantasy-paranormal', 'fantasy-sci-fi', 'fantasy-science-fiction', 'fantasy-scifi', 'fantasy-series', 'faves', 'favorite', 'favorite-author', 'favorite-authors', 'favorite-books', 'favorite-series', 'favorites', 'favourite', 'favourites', 'favs', 'female-author', 'female-authors', 'feminism', 'fiction', 'fiction-fantasy', 'fiction-general', 'fiction-historical', 'fiction-to-read', 'finished', 'finished-series', 'first-in-series', 'first-reads', 'fluff', 'for-school', 'friendship', 'fun', 'funny', 'futuristic', 'gave-up', 'gave-up-on', 'general', 'general-fiction', 'ghosts', 'gothic', 'graphic', 'graphic-novel', 'graphic-novels', 'graphic-novels-and-comics', 'graphic-novels-comics', 'guilty-pleasure', 'guilty-pleasures', 'hardcover', 'have', 'high-fantasy', 'high-school', 'historic-fiction', 'historical', 'historical-fiction', 'historical-romance', 'history', 'home', 'home-library', 'horror', 'horror-thriller', 'hot', 'humor', 'humorous', 'humour', 'i-own', 'i-own-it', 'in-my-library', 'inspirational', 'juvenile', 'juvenile-fiction', 'kid-books', 'kid-lit', 'kids', 'kids-books', 'kindle', 'kindle-books', 'lgbt', 'library', 'library-book', 'library-books', 'life', 'listened-to', 'lit', 'literary', 'literary-fiction', 'literature', 'love', 'love-triangle', 'loved', 'loved-it', 'm-f', 'made-me-cry', 'magic', 'magical-realism', 'maybe', 'meh', 'memoir', 'memoir-biography', 'memoirs', 'middle-grade', 'middle-school', 'military', 'mine', 'modern', 'modern-classics', 'modern-fiction', 'movie', 'movies', 'murder', 'murder-mystery', 'must-read', 'my-books', 'my-bookshelf', 'my-childhood', 'my-collection', 'my-ebooks', 'my-favorites', 'my-library', 'mysteries', 'mysteries-thrillers', 'mystery', 'mystery-crime', 'mystery-detective', 'mystery-series', 'mystery-suspense', 'mystery-suspense-thriller', 'mystery-thriller', 'mystery-thriller-suspense', 'mystery-thrillers', 'mythology', 'need-to-buy', 'netgalley', 'never-finished', 'new-adult', 'new-york', 'non-fic', 'non-fiction', 'non-fiction-to-read', 'nonfic', 'nonfiction', 'nook', 'not-interested', 'not-read', 'novel', 'novels', 'on-hold', 'on-kindle', 'on-my-bookshelf', 'on-my-kindle', 'on-my-shelf', 'other', 'overdrive', 'own-it', 'own-to-read', 'owned', 'owned-books', 'owned-to-read', 'paperback', 'paranormal', 'paranormal-fantasy', 'paranormal-romance', 'part-of-a-series', 'partially-read', 'personal-development', 'personal-library', 'philosophy', 'picture-book', 'picture-books', 'pnr', 'poetry', 'political', 'politics', 'post-apocalyptic', 'psychological', 'psychology', 'purchased', 're-read', 'read-2010', 'read-2011', 'read-2012', 'read-2013', 'read-2014', 'read-2015', 'read-2016', 'read-2017', 'read-aloud', 'read-alouds', 'read-as-a-child', 'read-as-a-kid', 'read-for-school', 'read-in-2008', 'read-in-2009', 'read-in-2010', 'read-in-2011', 'read-in-2012', 'read-in-2013', 'read-in-2014', 'read-in-2015', 'read-in-2016', 'read-in-2017', 'read-in-english', 'read-more-than-once', 'realistic', 'realistic-fiction', 'recommended', 'reference', 'relationships', 'religion', 'religious', 'reread', 'reviewed', 'roman', 'romance', 'romance-contemporary', 'romantic', 'romantic-suspense', 'satire', 'scanned', 'school', 'school-books', 'sci-fi', 'sci-fi-and-fantasy', 'sci-fi-fantasy', 'science', 'science-fiction', 'science-fiction-and-fantasy', 'science-fiction-fantasy', 'scifi', 'scifi-fantasy', 'self-help', 'self-improvement', 'series', 'series-to-read', 'sf', 'sf-f', 'sf-fantasy', 'sff', 'shelfari-favorites', 'shelfari-wishlist', 'short-stories', 'short-story', 'signed', 'sociology', 'space', 'speculative-fiction', 'spiritual', 'spirituality', 'stand-alone', 'standalone', 'steamy', 'stopped-reading', 'stories', 'sub', 'summer-reading', 'supernatural', 'survival', 'suspense', 'suspense-thriller', 'tbr', 'teen', 'teen-fiction', 'thriller', 'thriller-mystery', 'thriller-suspense', 'thrillers', 'to-buy', 'to-get', 'to-re-read', 'to-read', 'to-read-classics', 'to-read-fantasy', 'to-read-fiction', 'to-read-non-fiction', 'to-read-nonfiction', 'to-read-own', 'to-read-owned', 'to-reread', 'translated', 'translation', 'travel', 'trilogy', 'uk', 'unfinished', 'unread', 'urban-fantasy', 'usa', 'vampire', 'vampires', 'vamps', 'want', 'want-to-buy', 'want-to-read', 'war', 'werewolves', 'wish-list', 'witches', 'women', 'women-authors', 'women-s-fiction', 'women-writers', 'womens-fiction', 'ya', 'ya-books', 'ya-contemporary', 'ya-fantasy', 'ya-fiction', 'ya-lit', 'ya-paranormal', 'ya-romance', 'young-adult', 'young-adult-fantasy', 'young-adult-fiction', 'youngadult', 'youth']\n"
     ]
    }
   ],
   "source": [
    "# list of all distinct tag strings\n",
    "unique_tags = tags['tag_name'].dropna().unique()\n",
    "unique_tags_sorted = sorted(unique_tags)\n",
    "\n",
    "print(\"List of all unique tags:\")\n",
    "print(unique_tags_sorted)"
   ]
  },
  {
   "cell_type": "code",
   "execution_count": 42,
   "id": "b3fe04f7-b304-4863-8925-5bc784d2ed68",
   "metadata": {},
   "outputs": [],
   "source": [
    "unique_tags_sorted = [str(tag) for tag in unique_tags_sorted if tag is not None]"
   ]
  },
  {
   "cell_type": "code",
   "execution_count": 43,
   "id": "2a606d2c",
   "metadata": {},
   "outputs": [
    {
     "data": {
      "text/plain": [
       "502"
      ]
     },
     "execution_count": 43,
     "metadata": {},
     "output_type": "execute_result"
    }
   ],
   "source": [
    "len(unique_tags_sorted) # number of tags"
   ]
  },
  {
   "cell_type": "markdown",
   "id": "6be1d24b-7828-48e7-952c-089b71647a57",
   "metadata": {
    "jp-MarkdownHeadingCollapsed": true
   },
   "source": [
    "## Creating clusters using K-means"
   ]
  },
  {
   "cell_type": "code",
   "execution_count": 44,
   "id": "752300a6-7c37-4e4e-84e6-b3d2036a6eca",
   "metadata": {},
   "outputs": [],
   "source": [
    "# TfidfVectorizer converts each tag into a TF–IDF feature vector (including unigrams and bigrams)\n",
    "\n",
    "vectorizer = TfidfVectorizer(ngram_range = (1,2))\n",
    "\n",
    "X = vectorizer.fit_transform(unique_tags)"
   ]
  },
  {
   "cell_type": "markdown",
   "id": "ec33b607",
   "metadata": {},
   "source": [
    "#### let's cluster the TF–IDF vectors into 60 groups, so we can see which tags are semantically similar."
   ]
  },
  {
   "cell_type": "code",
   "execution_count": 45,
   "id": "ff34250f-244e-491a-bc75-6312d932cdb9",
   "metadata": {},
   "outputs": [],
   "source": [
    "# clustering on the TF-IDF vectors\n",
    "n_clusters = 70 \n",
    "kmeans = KMeans(n_clusters = n_clusters, random_state = 42)\n",
    "kmeans.fit(X)\n",
    "labels = kmeans.labels_"
   ]
  },
  {
   "cell_type": "code",
   "execution_count": 46,
   "id": "2c61928e",
   "metadata": {},
   "outputs": [],
   "source": [
    "# reducing the TF-IDF vectors to 2 dimensions using t-SNE\n",
    "tsne = TSNE(n_components = 2, random_state = 42, perplexity = 30, n_iter = 1000)\n",
    "X_tsne = tsne.fit_transform(X.toarray())"
   ]
  },
  {
   "cell_type": "code",
   "execution_count": 47,
   "id": "4aeb211f",
   "metadata": {},
   "outputs": [
    {
     "name": "stdout",
     "output_type": "stream",
     "text": [
      "Cluster 48:\n",
      "to-read to-read-fiction to-read-non-fiction non-fiction-to-read own-to-read owned-to-read want-to-read fiction-to-read to-read-owned to-read-own 1001-to-read to-read-fantasy\n",
      " \n",
      "Cluster 39:\n",
      "fantasy favorites currently-reading fiction books-i-own favourites magic adventure all-time-favorites default my-books audiobook kids middle-grade audiobooks paranormal read-more-than-once english urban-fantasy read-in-2016 supernatural my-favorites novel 2005 scifi-fantasy faves read-in-2015 made-me-cry juvenile shelfari-favorites kindle youth favourite read-in-2014 kids-books ebook read-in-english 5-star coming-of-age read-in-2017 england favs fantasy-scifi have action movie read-in-2013 fantasy-fiction read-in-2011 juvenile-fiction finished borrowed female-author books-i-have mine read-2016 friendship read-2015 werewolves loved love not-interested other humor epic-fantasy wish-list recommended funny high-fantasy shelfari-wishlist youngadult part-of-a-series action-adventure loved-it scifi humour space satire fun speculative-fiction 20th-century humorous abandoned audible ebooks must-read unfinished dnf on-hold sff hardcover philosophy partially-read nook calibre history reference non-fic didn-t-finish essays general education nonfic 21st-century never-finished maybe want couldn-t-finish 2000s memoirs culture animals listened-to bookclub america usa short-stories life literary kindle-books biographies biographical 1990s paperback read-in-2008 europe uk purchased read-2017 to-get tbr sociology epic mythology war movies already-read 1 english-literature art translation survival chapter-books read-as-a-kid general-fiction read-aloud elementary kid-lit award-winners kid-books literary-fiction book-group 19th-century unread read-as-a-child read-alouds female-authors self-help read-2013 read-in-2009 read-2014 2016-reads not-read religion politics stories bought on-kindle scanned picture-books drama inspirational modern-fiction cultural college 2006 reviewed fiction-general erotic lit 1001-import modern stopped-reading erotica new-york my-ebooks asia translated roman poetry spirituality spiritual romantic brit-lit magical-realism horror gothic murder stand-alone dystopia dystopian religious post-apocalyptic short-story ghosts biographies-memoirs espionage summer-reading feminism 2015-reads comics graphic-novel 2017-reads read-2012 business political psychology death personal-development self-improvement signed chick-lit historic-fiction comics-manga military christian faith murder-mystery 2016-books 2017-reading-challenge first-in-series read-2011 psychological lgbt 2017-books read-2010 books-read-in-2016 chicklit chic-lit fluff meh overdrive 2016-reading-challenge abuse demons 2011-reads 2015-reading-challenge 2012-reads guilty-pleasures womens-fiction standalone sub adult-romance futuristic romantic-suspense guilty-pleasure 2014-books paranormal-romance trilogy 2014-reads horror-thriller picture-book books-read-in-2015 vampires vampire 2015-read 2015-books arc vamps paranormal-fantasy fantasy-paranormal first-reads erotic-romance pnr love-triangle alpha-male m-f steamy hot book-boyfriend netgalley 2013-books book-boyfriends new-adult 2013-read\n",
      " \n",
      "Cluster 35:\n",
      "young-adult young-adult-fiction young-adult-fantasy children-young-adult adult adult-fiction\n",
      " \n",
      "Cluster 15:\n",
      "owned owned-books books-owned\n",
      " \n",
      "Cluster 41:\n",
      "ya ya-fantasy ya-fiction ya-lit children-ya ya-paranormal ya-contemporary ya-romance\n",
      " \n",
      "Cluster 29:\n",
      "series finished-series fantasy-series mystery-series completed-series\n",
      " \n",
      "Cluster 8:\n",
      "childrens childrens-books childrens-lit literature childrens-literature childrens-fiction\n",
      " \n",
      "Cluster 44:\n",
      "re-read to-re-read\n",
      " \n",
      "Cluster 49:\n",
      "children children-s children-s-literature children-s-lit children-s-fiction\n",
      " \n",
      "Cluster 17:\n",
      "sci-fi-fantasy fantasy-sci-fi sci-fi sci-fi-and-fantasy\n",
      " \n",
      "Cluster 7:\n",
      "childhood childhood-favorites childhood-books childhood-reads my-childhood\n",
      " \n",
      "Cluster 34:\n",
      "classics modern-classics classics-to-read to-read-classics\n",
      " \n",
      "Cluster 69:\n",
      "reread to-reread\n",
      " \n",
      "Cluster 37:\n",
      "i-own own-it i-own-it\n",
      " \n",
      "Cluster 9:\n",
      "5-stars 3-stars 4-stars\n",
      " \n",
      "Cluster 56:\n",
      "children-s-books children-books\n",
      " \n",
      "Cluster 67:\n",
      "favorite-books favorite favorite-series favorite-authors\n",
      " \n",
      "Cluster 12:\n",
      "novels graphic-novels comics-graphic-novels comics-and-graphic-novels graphic-novels-comics graphic-novels-and-comics graphic\n",
      " \n",
      "Cluster 62:\n",
      "my-library library personal-library in-my-library classroom-library library-books library-book\n",
      " \n",
      "Cluster 59:\n",
      "teen teen-fiction\n",
      " \n",
      "Cluster 63:\n",
      "witches\n",
      " \n",
      "Cluster 65:\n",
      "british british-literature\n",
      " \n",
      "Cluster 66:\n",
      "books e-books\n",
      " \n",
      "Cluster 10:\n",
      "mystery mystery-thriller thriller-mystery\n",
      " \n",
      "Cluster 57:\n",
      "audio audio-books audio-book\n",
      " \n",
      "Cluster 22:\n",
      "romance contemporary contemporary-fiction contemporary-romance romance-contemporary\n",
      " \n",
      "Cluster 25:\n",
      "to-buy want-to-buy need-to-buy books-to-buy\n",
      " \n",
      "Cluster 26:\n",
      "science-fiction-fantasy science-fiction science science-fiction-and-fantasy fantasy-science-fiction\n",
      " \n",
      "Cluster 32:\n",
      "on-my-shelf on-my-kindle\n",
      " \n",
      "Cluster 19:\n",
      "my-bookshelf bookshelf on-my-bookshelf\n",
      " \n",
      "Cluster 53:\n",
      "classic classic-literature classic-fiction\n",
      " \n",
      "Cluster 5:\n",
      "ya-books\n",
      " \n",
      "Cluster 3:\n",
      "fiction-fantasy\n",
      " \n",
      "Cluster 64:\n",
      "middle-school school read-for-school for-school school-books high-school\n",
      " \n",
      "Cluster 28:\n",
      "thriller suspense mystery-suspense suspense-thriller thriller-suspense mystery-suspense-thriller mystery-thriller-suspense\n",
      " \n",
      "Cluster 31:\n",
      "home-library home\n",
      " \n",
      "Cluster 38:\n",
      "comedy\n",
      " \n",
      "Cluster 11:\n",
      "sf sf-fantasy sf-f\n",
      " \n",
      "Cluster 54:\n",
      "1001-books 1001 1001-books-to-read\n",
      " \n",
      "Cluster 40:\n",
      "book-club e-book book-club-books book-club-reads book\n",
      " \n",
      "Cluster 24:\n",
      "1001-books-to-read-before-you-die 1001-books-you-must-read-before-you\n",
      " \n",
      "Cluster 23:\n",
      "did-not-finish could-not-finish\n",
      " \n",
      "Cluster 47:\n",
      "collection my-collection\n",
      " \n",
      "Cluster 27:\n",
      "nonfiction to-read-nonfiction adult-nonfiction\n",
      " \n",
      "Cluster 58:\n",
      "non-fiction adult-non-fiction\n",
      " \n",
      "Cluster 43:\n",
      "historical historical-fiction fiction-historical historical-romance\n",
      " \n",
      "Cluster 0:\n",
      "travel\n",
      " \n",
      "Cluster 42:\n",
      "american american-lit american-literature american-history\n",
      " \n",
      "Cluster 60:\n",
      "gave-up-on gave-up\n",
      " \n",
      "Cluster 16:\n",
      "memoir biography biography-memoir memoir-biography autobiography biography-autobiography autobiography-memoir\n",
      " \n",
      "Cluster 52:\n",
      "bio-memoir bio\n",
      " \n",
      "Cluster 4:\n",
      "read-in-2012\n",
      " \n",
      "Cluster 61:\n",
      "read-in-2010\n",
      " \n",
      "Cluster 51:\n",
      "realistic-fiction realistic\n",
      " \n",
      "Cluster 20:\n",
      "family relationships family-relationships\n",
      " \n",
      "Cluster 36:\n",
      "women women-writers women-authors women-s-fiction\n",
      " \n",
      "Cluster 30:\n",
      "classic-lit\n",
      " \n",
      "Cluster 50:\n",
      "crime mystery-crime crime-fiction crime-mystery crime-mystery-thriller\n",
      " \n",
      "Cluster 33:\n",
      "dark dark-fantasy\n",
      " \n",
      "Cluster 68:\n",
      "thrillers mystery-thrillers\n",
      " \n",
      "Cluster 13:\n",
      "crime-thriller\n",
      " \n",
      "Cluster 55:\n",
      "detective mystery-detective\n",
      " \n",
      "Cluster 46:\n",
      "mysteries mysteries-thrillers\n",
      " \n",
      "Cluster 45:\n",
      "comic comic-books\n",
      " \n",
      "Cluster 14:\n",
      "2013-reads\n",
      " \n",
      "Cluster 21:\n",
      "favorite-author\n",
      " \n",
      "Cluster 18:\n",
      "2016-read\n",
      " \n",
      "Cluster 6:\n",
      "children-s-book\n",
      " \n",
      "Cluster 1:\n",
      "2014-read\n",
      " \n",
      "Cluster 2:\n",
      "series-to-read\n",
      " \n"
     ]
    }
   ],
   "source": [
    "# Group tags by their assigned cluster label\n",
    "clusters = {}\n",
    "for tag, label in zip(unique_tags, kmeans.labels_):\n",
    "    clusters.setdefault(label, []).append(tag)\n",
    "\n",
    "# Concatenate the tags within each cluster \n",
    "for cluster_label, tag_list in clusters.items():\n",
    "    combined_tags = \" \".join(tag_list)\n",
    "    print(f\"Cluster {cluster_label}:\\n{combined_tags}\\n \")"
   ]
  },
  {
   "cell_type": "code",
   "execution_count": 48,
   "id": "a4d7d22a",
   "metadata": {},
   "outputs": [
    {
     "data": {
      "image/png": "[encoded data removed]",
      "text/plain": [
       "<Figure size 2000x1500 with 2 Axes>"
      ]
     },
     "metadata": {},
     "output_type": "display_data"
    }
   ],
   "source": [
    "plt.figure(figsize = (20, 15))\n",
    "scatter = plt.scatter(X_tsne[:, 0], X_tsne[:, 1], c = labels, cmap = 'viridis')\n",
    "\n",
    "for i, tag in enumerate(unique_tags):\n",
    "    plt.annotate(tag, (X_tsne[i, 0], X_tsne[i, 1]), fontsize = 8, alpha = 0.7)\n",
    "\n",
    "plt.title('t-SNE Plot of Tag Clusters')\n",
    "plt.xlabel('Component 1')\n",
    "plt.ylabel('Component 2')\n",
    "plt.colorbar(scatter, label = 'Cluster')\n",
    "plt.show()"
   ]
  },
  {
   "cell_type": "markdown",
   "id": "acbd0fc8",
   "metadata": {},
   "source": [
    "## Mapping old tags to a single new tag (creating genres)"
   ]
  },
  {
   "cell_type": "code",
   "execution_count": 49,
   "id": "7454405d",
   "metadata": {},
   "outputs": [],
   "source": [
    "tagsdf = tags.copy()"
   ]
  },
  {
   "cell_type": "markdown",
   "id": "9c9e1c15-eb1a-4e0e-8162-f4d438534e06",
   "metadata": {},
   "source": [
    "#### new mapping accoridng to existing tag names (which also include genres)\n",
    "\n",
    "genres = \"art\", \"biography\", \"business\", \"chick-lit\", \"children's\", \"christian\", \"classics\",\n",
    "          \"comics\", \"contemporary\", \"cookbooks\", \"crime\", \"books\", \"fantasy\", \"fiction\",\n",
    "          \"gay-and-lesbian\", \"graphic-novels\", \"historical-fiction\", \"history\", \"horror\",\n",
    "          \"humor-and-comedy\", \"manga\", \"memoir\", \"music\", \"mystery\", \"nonfiction\", \"paranormal\",\n",
    "          \"philosophy\", \"poetry\", \"psychology\", \"religion\", \"romance\", \"science\", \"science-fiction\", \n",
    "          \"self-help\", \"suspense\", \"spirituality\", \"sports\", \"thriller\", \"travel\", \"young-adult\"\n"
   ]
  },
  {
   "cell_type": "code",
   "execution_count": 116,
   "id": "b1b6ce76",
   "metadata": {},
   "outputs": [],
   "source": [
    "mapping = {\n",
    "    \"art\": [\"art\"],\n",
    "    \"biography\": [\n",
    "        \"biography\", \"biographies\", \"biographical\",\n",
    "        \"autobiography\", \"autobiography-memoir\",\n",
    "        \"biography-autobiography\", \"biography-memoir\",\n",
    "        \"biographies-memoirs\", \"bio\", \"bio-memoir\"\n",
    "    ],\n",
    "    \"business\": [\"business\"],\n",
    "    \"chick-lit\": [\"chick-lit\", \"chic-lit\", \"chicklit\"],\n",
    "    \"children's\": [\n",
    "        \"children\", \"childrens\", \"childrens-books\", \"childrens-lit\", \"childrens-fiction\",\n",
    "        \"childrens-literature\", \"children-s\", \"children-s-book\", \"children-s-books\",\n",
    "        \"children-s-lit\", \"children-s-literature\", \"childhood\",\n",
    "        \"childhood-books\", \"childhood-favorites\", \"childhood-reads\"\n",
    "    ],\n",
    "    \"christian\": [\"christian\"],\n",
    "    \"classics\": [\n",
    "        \"classic\", \"classic-fiction\", \"classic-lit\", \"classic-literature\",\n",
    "        \"classics\", \"classics-to-read\", \"modern-classics\", \"to-read-classics\"\n",
    "    ],\n",
    "    \"comics\": [\n",
    "        \"comic\", \"comic-books\", \"comics\", \"comics-and-graphic-novels\",\n",
    "        \"comics-graphic-novels\"\n",
    "    ],\n",
    "    \"contemporary\": [\"contemporary\", \"contemporary-fiction\", \"contemporary-romance\"],\n",
    "    \"cookbooks\": [\"cookbooks\"],\n",
    "    \"crime\": [\n",
    "        \"crime\", \"crime-fiction\", \"crime-mystery\", \"crime-mystery-thriller\", \"crime-thriller\"\n",
    "    ],\n",
    "    \"books\": [\"book\", \"books\"],\n",
    "    \"fantasy\": [\n",
    "        \"fantasy\", \"fantasy-fiction\", \"fantasy-paranormal\", \"epic-fantasy\",\n",
    "        \"high-fantasy\", \"dark-fantasy\", \"urban-fantasy\", \"fantasy-series\",\n",
    "        \"fantasy-sci-fi\", \"fantasy-scifi\", \"fantasy-science-fiction\"\n",
    "    ],\n",
    "    \"fiction\": [\n",
    "        \"fiction\", \"fiction-general\", \"fiction-historical\", \"fiction-to-read\"\n",
    "    ],\n",
    "    \"gay-and-lesbian\": [\"lgbt\"],\n",
    "    \"graphic-novels\": [\n",
    "        \"graphic\", \"graphic-novel\", \"graphic-novels\",\n",
    "        \"graphic-novels-and-comics\", \"graphic-novels-comics\"\n",
    "    ],\n",
    "    \"historical-fiction\": [\"historical-fiction\", \"historic-fiction\"],\n",
    "    \"history\": [\"history\", \"american-history\"],\n",
    "    \"horror\": [\"horror\", \"horror-thriller\"],\n",
    "    \"humor-and-comedy\": [\"humor\", \"humorous\", \"humour\", \"comedy\"],\n",
    "    \"manga\": [\"manga\", \"comics-manga\"],\n",
    "    \"memoir\": [\"memoir\", \"memoirs\"],\n",
    "    \"music\": [\"music\"],\n",
    "    \"mystery\": [\"mystery\", \"mysteries\", \"mystery-crime\", \"mystery-detective\"],\n",
    "    \"nonfiction\": [\"nonfiction\", \"non-fiction\", \"nonfic\", \"non-fic\", \"non-fiction-to-read\"],\n",
    "    \"paranormal\": [\"paranormal\", \"paranormal-fantasy\", \"paranormal-romance\", \"supernatural\"],\n",
    "    \"philosophy\": [\"philosophy\"],\n",
    "    \"poetry\": [\"poetry\"],\n",
    "    \"psychology\": [\"psychology\"],\n",
    "    \"religion\": [\"religion\"],\n",
    "    \"romance\": [\"romance\", \"erotic-romance\", \"romantic\", \"romantic-suspense\", \"steamy\"],\n",
    "    \"science\": [\"science\"],\n",
    "    \"science-fiction\": [\n",
    "        \"science-fiction\", \"sci-fi\", \"scifi\",\n",
    "        \"science-fiction-and-fantasy\", \"science-fiction-fantasy\",\n",
    "        \"sci-fi-and-fantasy\", \"sci-fi-fantasy\"\n",
    "    ],\n",
    "    \"self-help\": [\"self-help\", \"self-improvement\"],\n",
    "    \"suspense\": [\"suspense\"],\n",
    "    \"spirituality\": [\"spirituality\", \"spiritual\"],\n",
    "    \"sports\": [\"sports\"],\n",
    "    \"thriller\": [\"thriller\", \"thrillers\", \"thriller-mystery\"],\n",
    "    \"travel\": [\"travel\"],\n",
    "    \"young-adult\": [\n",
    "        \"young-adult\", \"ya\", \"ya-books\", \"youngadult\", \"new-adult\",\n",
    "        \"teen\", \"teen-fiction\", \"children-ya\", \"ya-fiction\",\n",
    "        \"ya-fantasy\", \"ya-romance\", \"ya-paranormal\"\n",
    "    ]\n",
    "}\n",
    "\n"
   ]
  },
  {
   "cell_type": "code",
   "execution_count": null,
   "id": "34a122e2",
   "metadata": {},
   "outputs": [],
   "source": [
    "\"\"\"mapping = {\n",
    "\n",
    "    # GENRE GROUPS \n",
    "\n",
    "    \"childrens\": [  \n",
    "        'childrens', 'childrens-books', 'childrens-lit', 'childrens-literature',\n",
    "        'childrens-fiction', 'children', 'children-s', 'children-s-literature',\n",
    "        'children-s-lit', 'children-s-fiction', 'childhood', 'childhood-favorites',\n",
    "        'childhood-books', 'childhood-reads', 'my-childhood', 'children-s-book', 'kids', \n",
    "        'children-s-books', 'middle-grade', 'read-as-a-child', 'read-as-a-kid','childrens'\n",
    "    ],\n",
    "    \"classics\": [   \n",
    "        'classics', 'modern-classics', 'classics-to-read',\n",
    "        'to-read-classics', 'classic', 'classic-literature', 'classic-fiction'\n",
    "    ],\n",
    "    \"fantasy_scifi_group\": [  \n",
    "         'fantasy-scifi', 'fantasy-sci-fi',\n",
    "        'fantasy-science-fiction',\n",
    "        'scifi-fantasy', 'sci-fi-fantasy', 'sci-fi-and-fantasy',\n",
    "        'science-fiction-and-fantasy', 'science-fiction-fantasy'\n",
    "    ],\n",
    "    \"general_fiction_group\": [\n",
    "        'fiction', 'fiction-general', 'novel', 'novels', 'literary'\n",
    "    ],\n",
    "    \"graphic-novels\": [\n",
    "        'graphic-novels', 'comics-graphic-novels', 'comics-and-graphic-novels',\n",
    "        'graphic-novels-comics', 'graphic-novels-and-comics',\n",
    "        'comic', 'comic-books'\n",
    "    ],\n",
    "    \"mystery_thriller_group\": [\n",
    "        'crime', 'crime-fiction', 'crime-mystery', 'crime-mystery-thriller',\n",
    "        'crime-thriller', 'detective', 'mysteries', 'mysteries-thrillers',\n",
    "        'mystery-crime', 'mystery-detective', 'mystery-suspense',\n",
    "        'mystery-suspense-thriller', 'mystery-thrillers', 'mystery-thriller-suspense',\n",
    "        'suspense-thriller', 'thriller-suspense', 'thrillers'\n",
    "    ],\n",
    "    \"nonfiction\": [\n",
    "        'nonfiction', 'non-fiction', 'to-read-nonfiction',\n",
    "        'memoir', 'biography', 'biography-memoir', 'memoir-biography',\n",
    "        'biography-autobiography', 'autobiography', 'autobiography-memoir',\n",
    "        'bio-memoir', 'bio'\n",
    "    ],\n",
    "    \"romance\": [\n",
    "        'romance', 'contemporary-romance', 'romance-contemporary',\n",
    "        'adult-romance', 'erotic-romance', 'erotica', 'romantic-suspense',\n",
    "        'love-triangle', 'alpha-male', 'm-f', 'steamy', 'hot', 'romance', 'romantic',\n",
    "    ],\n",
    "    \"young-adult\": [ \n",
    "        'young-adult', 'young-adult-fiction', 'young-adult-fantasy',\n",
    "        'children-young-adult', 'teen', 'teen-fiction', 'new-adult', 'ya'\n",
    "    ],\n",
    "    \n",
    "    # NON-GENRE GROUPS \n",
    "    \n",
    "    \"book-club\": [\n",
    "        'book-club', 'book-club-books', 'book-club-reads',\n",
    "        'book-group', 'bookclub'\n",
    "    ],\n",
    "    \"date_read_group\": [\n",
    "        'read-in-2016', 'read-in-2015', 'read-in-2014', 'read-in-2017',\n",
    "        'read-in-2013', 'read-in-2011', 'read-in-2008', 'read-in-2009',\n",
    "        '2016-reads', '2017-reads', '2015-reads', '2013-reads', '1990s', \n",
    "        '19th-century', '2000s', '2005', '2006', '2011-reads', '2012-reads', \n",
    "        '2013-books', '2013-read', '2014-books', '2014-read', '2014-reads', '2015-books', \n",
    "        '2015-read', '2015-reading-challenge', '2016-books', '2016-read', '2016-reading-challenge',\n",
    "        '2017-books', '2017-reading-challenge', '20th-century',\n",
    "    ],\n",
    "    \"favorites\": [\n",
    "        'favorites', 'favourites', 'all-time-favorites', 'my-favorites',\n",
    "        'shelfari-favorites', 'wish-list', 'recommended', 'fave', 'favs', 'favorite-books', '5-stars'\n",
    "        'faves', 'favorite', 'favorite-author', 'favorite-authors', 'favorite-series', 'favorites', 'favourite'\n",
    "    ],\n",
    "    \"to-buy\": [\n",
    "        'to-buy', 'want-to-buy', 'need-to-buy', 'books-to-buy'\n",
    "    ],\n",
    "    \"chick-lit\": [  \n",
    "        'chick-lit', 'chicklit', 'chic-lit'\n",
    "    ],\n",
    "    \"supernatural_group\": [\n",
    "        'vampire', 'vampires', 'vamps', 'werewolves', 'witches', 'supernatural'\n",
    "    ],\n",
    "    \"on_shelf_group\": [\n",
    "        'on-my-shelf', 'on-my-kindle', 'my-bookshelf',\n",
    "        'bookshelf', 'on-my-bookshelf', 'home-library'\n",
    "    ],\n",
    "    \"books-i-own\": [\n",
    "        'books-i-own', 'books-i-have', 'owned', 'owned-to-read', 'mine',\n",
    "        'owned-books', 'books-owned', 'i-own', 'own-it', 'i-own-it',\n",
    "        'collection', 'my-collection'\n",
    "    ],\n",
    "    \"dnf\": [\n",
    "        'dnf', \"didn-t-finish\", \"couldn-t-finish\", 'not-read', 'unread',\n",
    "        'did-not-finish', 'could-not-finish', 'partially-read'\n",
    "    ],\n",
    "    \"to_read_1001_group\": [\n",
    "        '1001-books', '1001', '1001-books-to-read',\n",
    "        '1001-books-to-read-before-you-die', '1001-books-you-must-read-before-you', '1001-import'\n",
    "    ],\n",
    "    \"to-read\": [\n",
    "        'to-read', 'own-to-read', 'owned-to-read', 'want-to-read',\n",
    "        'to-read-owned', 'to-read-own', '1001-to-read', 'to-re-read',\n",
    "        're-read', 'reread', 'to-reread'\n",
    "    ]\n",
    "}\n",
    "\"\"\""
   ]
  },
  {
   "cell_type": "code",
   "execution_count": 117,
   "id": "324a0741",
   "metadata": {},
   "outputs": [],
   "source": [
    "# Create a reverse mapping: for every original tag we map it to its normalized group key\n",
    "rev_map = {orig: new \n",
    "           for new, orig_list in mapping.items() \n",
    "           for orig in orig_list}\n",
    "\n",
    "tagsdf['tag_name'] = tagsdf['tag_name'].apply(lambda x: rev_map.get(x, x))\n",
    "tagsdf.drop_duplicates(subset=['title', 'tag_name'], inplace=True)\n"
   ]
  },
  {
   "cell_type": "code",
   "execution_count": 118,
   "id": "13e6890c",
   "metadata": {},
   "outputs": [
    {
     "data": {
      "application/vnd.microsoft.datawrangler.viewer.v0+json": {
       "columns": [
        {
         "name": "index",
         "rawType": "int64",
         "type": "integer"
        },
        {
         "name": "goodreads_book_id",
         "rawType": "int64",
         "type": "integer"
        },
        {
         "name": "tag_id",
         "rawType": "int64",
         "type": "integer"
        },
        {
         "name": "count",
         "rawType": "int64",
         "type": "integer"
        },
        {
         "name": "tag_name",
         "rawType": "object",
         "type": "string"
        },
        {
         "name": "title",
         "rawType": "object",
         "type": "string"
        }
       ],
       "conversionMethod": "pd.DataFrame",
       "ref": "7bfbfb15-c58e-4c57-9411-057ac2e981f7",
       "rows": [
        [
         "0",
         "1",
         "30574",
         "167697",
         "to-read",
         "Harry Potter and the Half-Blood Prince (Harry Potter, #6)"
        ],
        [
         "1",
         "1",
         "11305",
         "37174",
         "fantasy",
         "Harry Potter and the Half-Blood Prince (Harry Potter, #6)"
        ],
        [
         "2",
         "1",
         "11557",
         "34173",
         "favorites",
         "Harry Potter and the Half-Blood Prince (Harry Potter, #6)"
        ],
        [
         "3",
         "1",
         "8717",
         "12986",
         "currently-reading",
         "Harry Potter and the Half-Blood Prince (Harry Potter, #6)"
        ],
        [
         "4",
         "1",
         "33114",
         "12716",
         "young-adult",
         "Harry Potter and the Half-Blood Prince (Harry Potter, #6)"
        ],
        [
         "5",
         "1",
         "11743",
         "9954",
         "general_fiction_group",
         "Harry Potter and the Half-Blood Prince (Harry Potter, #6)"
        ],
        [
         "7",
         "1",
         "5207",
         "6221",
         "books-i-own",
         "Harry Potter and the Half-Blood Prince (Harry Potter, #6)"
        ],
        [
         "10",
         "1",
         "27199",
         "3857",
         "series",
         "Harry Potter and the Half-Blood Prince (Harry Potter, #6)"
        ],
        [
         "12",
         "1",
         "18886",
         "3374",
         "magic",
         "Harry Potter and the Half-Blood Prince (Harry Potter, #6)"
        ],
        [
         "13",
         "1",
         "6953",
         "2408",
         "children's",
         "Harry Potter and the Half-Blood Prince (Harry Potter, #6)"
        ],
        [
         "16",
         "1",
         "1691",
         "1742",
         "adventure",
         "Harry Potter and the Half-Blood Prince (Harry Potter, #6)"
        ],
        [
         "20",
         "1",
         "26785",
         "1093",
         "fantasy_scifi_group",
         "Harry Potter and the Half-Blood Prince (Harry Potter, #6)"
        ],
        [
         "23",
         "1",
         "9221",
         "987",
         "default",
         "Harry Potter and the Half-Blood Prince (Harry Potter, #6)"
        ],
        [
         "24",
         "1",
         "20774",
         "984",
         "my-books",
         "Harry Potter and the Half-Blood Prince (Harry Potter, #6)"
        ],
        [
         "25",
         "1",
         "7457",
         "958",
         "classics",
         "Harry Potter and the Half-Blood Prince (Harry Potter, #6)"
        ],
        [
         "28",
         "1",
         "3389",
         "836",
         "audiobook",
         "Harry Potter and the Half-Blood Prince (Harry Potter, #6)"
        ],
        [
         "29",
         "1",
         "1128",
         "828",
         "5-stars",
         "Harry Potter and the Half-Blood Prince (Harry Potter, #6)"
        ],
        [
         "37",
         "1",
         "3392",
         "701",
         "audiobooks",
         "Harry Potter and the Half-Blood Prince (Harry Potter, #6)"
        ],
        [
         "38",
         "1",
         "22973",
         "673",
         "paranormal",
         "Harry Potter and the Half-Blood Prince (Harry Potter, #6)"
        ],
        [
         "39",
         "1",
         "25234",
         "659",
         "read-more-than-once",
         "Harry Potter and the Half-Blood Prince (Harry Potter, #6)"
        ]
       ],
       "shape": {
        "columns": 5,
        "rows": 20
       }
      },
      "text/html": [
       "<div>\n",
       "<style scoped>\n",
       "    .dataframe tbody tr th:only-of-type {\n",
       "        vertical-align: middle;\n",
       "    }\n",
       "\n",
       "    .dataframe tbody tr th {\n",
       "        vertical-align: top;\n",
       "    }\n",
       "\n",
       "    .dataframe thead th {\n",
       "        text-align: right;\n",
       "    }\n",
       "</style>\n",
       "<table border=\"1\" class=\"dataframe\">\n",
       "  <thead>\n",
       "    <tr style=\"text-align: right;\">\n",
       "      <th></th>\n",
       "      <th>goodreads_book_id</th>\n",
       "      <th>tag_id</th>\n",
       "      <th>count</th>\n",
       "      <th>tag_name</th>\n",
       "      <th>title</th>\n",
       "    </tr>\n",
       "  </thead>\n",
       "  <tbody>\n",
       "    <tr>\n",
       "      <th>0</th>\n",
       "      <td>1</td>\n",
       "      <td>30574</td>\n",
       "      <td>167697</td>\n",
       "      <td>to-read</td>\n",
       "      <td>Harry Potter and the Half-Blood Prince (Harry ...</td>\n",
       "    </tr>\n",
       "    <tr>\n",
       "      <th>1</th>\n",
       "      <td>1</td>\n",
       "      <td>11305</td>\n",
       "      <td>37174</td>\n",
       "      <td>fantasy</td>\n",
       "      <td>Harry Potter and the Half-Blood Prince (Harry ...</td>\n",
       "    </tr>\n",
       "    <tr>\n",
       "      <th>2</th>\n",
       "      <td>1</td>\n",
       "      <td>11557</td>\n",
       "      <td>34173</td>\n",
       "      <td>favorites</td>\n",
       "      <td>Harry Potter and the Half-Blood Prince (Harry ...</td>\n",
       "    </tr>\n",
       "    <tr>\n",
       "      <th>3</th>\n",
       "      <td>1</td>\n",
       "      <td>8717</td>\n",
       "      <td>12986</td>\n",
       "      <td>currently-reading</td>\n",
       "      <td>Harry Potter and the Half-Blood Prince (Harry ...</td>\n",
       "    </tr>\n",
       "    <tr>\n",
       "      <th>4</th>\n",
       "      <td>1</td>\n",
       "      <td>33114</td>\n",
       "      <td>12716</td>\n",
       "      <td>young-adult</td>\n",
       "      <td>Harry Potter and the Half-Blood Prince (Harry ...</td>\n",
       "    </tr>\n",
       "    <tr>\n",
       "      <th>5</th>\n",
       "      <td>1</td>\n",
       "      <td>11743</td>\n",
       "      <td>9954</td>\n",
       "      <td>general_fiction_group</td>\n",
       "      <td>Harry Potter and the Half-Blood Prince (Harry ...</td>\n",
       "    </tr>\n",
       "    <tr>\n",
       "      <th>7</th>\n",
       "      <td>1</td>\n",
       "      <td>5207</td>\n",
       "      <td>6221</td>\n",
       "      <td>books-i-own</td>\n",
       "      <td>Harry Potter and the Half-Blood Prince (Harry ...</td>\n",
       "    </tr>\n",
       "    <tr>\n",
       "      <th>10</th>\n",
       "      <td>1</td>\n",
       "      <td>27199</td>\n",
       "      <td>3857</td>\n",
       "      <td>series</td>\n",
       "      <td>Harry Potter and the Half-Blood Prince (Harry ...</td>\n",
       "    </tr>\n",
       "    <tr>\n",
       "      <th>12</th>\n",
       "      <td>1</td>\n",
       "      <td>18886</td>\n",
       "      <td>3374</td>\n",
       "      <td>magic</td>\n",
       "      <td>Harry Potter and the Half-Blood Prince (Harry ...</td>\n",
       "    </tr>\n",
       "    <tr>\n",
       "      <th>13</th>\n",
       "      <td>1</td>\n",
       "      <td>6953</td>\n",
       "      <td>2408</td>\n",
       "      <td>children's</td>\n",
       "      <td>Harry Potter and the Half-Blood Prince (Harry ...</td>\n",
       "    </tr>\n",
       "    <tr>\n",
       "      <th>16</th>\n",
       "      <td>1</td>\n",
       "      <td>1691</td>\n",
       "      <td>1742</td>\n",
       "      <td>adventure</td>\n",
       "      <td>Harry Potter and the Half-Blood Prince (Harry ...</td>\n",
       "    </tr>\n",
       "    <tr>\n",
       "      <th>20</th>\n",
       "      <td>1</td>\n",
       "      <td>26785</td>\n",
       "      <td>1093</td>\n",
       "      <td>fantasy_scifi_group</td>\n",
       "      <td>Harry Potter and the Half-Blood Prince (Harry ...</td>\n",
       "    </tr>\n",
       "    <tr>\n",
       "      <th>23</th>\n",
       "      <td>1</td>\n",
       "      <td>9221</td>\n",
       "      <td>987</td>\n",
       "      <td>default</td>\n",
       "      <td>Harry Potter and the Half-Blood Prince (Harry ...</td>\n",
       "    </tr>\n",
       "    <tr>\n",
       "      <th>24</th>\n",
       "      <td>1</td>\n",
       "      <td>20774</td>\n",
       "      <td>984</td>\n",
       "      <td>my-books</td>\n",
       "      <td>Harry Potter and the Half-Blood Prince (Harry ...</td>\n",
       "    </tr>\n",
       "    <tr>\n",
       "      <th>25</th>\n",
       "      <td>1</td>\n",
       "      <td>7457</td>\n",
       "      <td>958</td>\n",
       "      <td>classics</td>\n",
       "      <td>Harry Potter and the Half-Blood Prince (Harry ...</td>\n",
       "    </tr>\n",
       "    <tr>\n",
       "      <th>28</th>\n",
       "      <td>1</td>\n",
       "      <td>3389</td>\n",
       "      <td>836</td>\n",
       "      <td>audiobook</td>\n",
       "      <td>Harry Potter and the Half-Blood Prince (Harry ...</td>\n",
       "    </tr>\n",
       "    <tr>\n",
       "      <th>29</th>\n",
       "      <td>1</td>\n",
       "      <td>1128</td>\n",
       "      <td>828</td>\n",
       "      <td>5-stars</td>\n",
       "      <td>Harry Potter and the Half-Blood Prince (Harry ...</td>\n",
       "    </tr>\n",
       "    <tr>\n",
       "      <th>37</th>\n",
       "      <td>1</td>\n",
       "      <td>3392</td>\n",
       "      <td>701</td>\n",
       "      <td>audiobooks</td>\n",
       "      <td>Harry Potter and the Half-Blood Prince (Harry ...</td>\n",
       "    </tr>\n",
       "    <tr>\n",
       "      <th>38</th>\n",
       "      <td>1</td>\n",
       "      <td>22973</td>\n",
       "      <td>673</td>\n",
       "      <td>paranormal</td>\n",
       "      <td>Harry Potter and the Half-Blood Prince (Harry ...</td>\n",
       "    </tr>\n",
       "    <tr>\n",
       "      <th>39</th>\n",
       "      <td>1</td>\n",
       "      <td>25234</td>\n",
       "      <td>659</td>\n",
       "      <td>read-more-than-once</td>\n",
       "      <td>Harry Potter and the Half-Blood Prince (Harry ...</td>\n",
       "    </tr>\n",
       "  </tbody>\n",
       "</table>\n",
       "</div>"
      ],
      "text/plain": [
       "    goodreads_book_id  tag_id   count               tag_name  \\\n",
       "0                   1   30574  167697                to-read   \n",
       "1                   1   11305   37174                fantasy   \n",
       "2                   1   11557   34173              favorites   \n",
       "3                   1    8717   12986      currently-reading   \n",
       "4                   1   33114   12716            young-adult   \n",
       "5                   1   11743    9954  general_fiction_group   \n",
       "7                   1    5207    6221            books-i-own   \n",
       "10                  1   27199    3857                 series   \n",
       "12                  1   18886    3374                  magic   \n",
       "13                  1    6953    2408             children's   \n",
       "16                  1    1691    1742              adventure   \n",
       "20                  1   26785    1093    fantasy_scifi_group   \n",
       "23                  1    9221     987                default   \n",
       "24                  1   20774     984               my-books   \n",
       "25                  1    7457     958               classics   \n",
       "28                  1    3389     836              audiobook   \n",
       "29                  1    1128     828                5-stars   \n",
       "37                  1    3392     701             audiobooks   \n",
       "38                  1   22973     673             paranormal   \n",
       "39                  1   25234     659    read-more-than-once   \n",
       "\n",
       "                                                title  \n",
       "0   Harry Potter and the Half-Blood Prince (Harry ...  \n",
       "1   Harry Potter and the Half-Blood Prince (Harry ...  \n",
       "2   Harry Potter and the Half-Blood Prince (Harry ...  \n",
       "3   Harry Potter and the Half-Blood Prince (Harry ...  \n",
       "4   Harry Potter and the Half-Blood Prince (Harry ...  \n",
       "5   Harry Potter and the Half-Blood Prince (Harry ...  \n",
       "7   Harry Potter and the Half-Blood Prince (Harry ...  \n",
       "10  Harry Potter and the Half-Blood Prince (Harry ...  \n",
       "12  Harry Potter and the Half-Blood Prince (Harry ...  \n",
       "13  Harry Potter and the Half-Blood Prince (Harry ...  \n",
       "16  Harry Potter and the Half-Blood Prince (Harry ...  \n",
       "20  Harry Potter and the Half-Blood Prince (Harry ...  \n",
       "23  Harry Potter and the Half-Blood Prince (Harry ...  \n",
       "24  Harry Potter and the Half-Blood Prince (Harry ...  \n",
       "25  Harry Potter and the Half-Blood Prince (Harry ...  \n",
       "28  Harry Potter and the Half-Blood Prince (Harry ...  \n",
       "29  Harry Potter and the Half-Blood Prince (Harry ...  \n",
       "37  Harry Potter and the Half-Blood Prince (Harry ...  \n",
       "38  Harry Potter and the Half-Blood Prince (Harry ...  \n",
       "39  Harry Potter and the Half-Blood Prince (Harry ...  "
      ]
     },
     "execution_count": 118,
     "metadata": {},
     "output_type": "execute_result"
    }
   ],
   "source": [
    "tagsdf.head(20)"
   ]
  },
  {
   "cell_type": "code",
   "execution_count": 119,
   "id": "876c4622",
   "metadata": {},
   "outputs": [
    {
     "data": {
      "text/plain": [
       "(472643, 5)"
      ]
     },
     "execution_count": 119,
     "metadata": {},
     "output_type": "execute_result"
    }
   ],
   "source": [
    "tagsdf.shape"
   ]
  },
  {
   "cell_type": "code",
   "execution_count": 120,
   "id": "be78c9e2",
   "metadata": {
    "scrolled": true
   },
   "outputs": [
    {
     "name": "stdout",
     "output_type": "stream",
     "text": [
      "List of all unique tags:\n",
      "['1', '21st-century', '3-stars', '4-stars', '5-star', '5-stars', 'abandoned', 'abuse', 'action', 'action-adventure', 'adult', 'adult-fiction', 'adult-non-fiction', 'adult-nonfiction', 'adventure', 'already-read', 'america', 'american', 'american-lit', 'american-literature', 'animals', 'arc', 'art', 'asia', 'audible', 'audio', 'audio-book', 'audio-books', 'audiobook', 'audiobooks', 'award-winners', 'biography', 'book-boyfriend', 'book-boyfriends', 'book-club', 'books', 'books-i-own', 'books-read-in-2015', 'books-read-in-2016', 'borrowed', 'bought', 'brit-lit', 'british', 'british-literature', 'business', 'calibre', 'chapter-books', 'chick-lit', \"children's\", 'children-books', 'christian', 'classics', 'classroom-library', 'college', 'comics', 'coming-of-age', 'completed-series', 'contemporary', 'cultural', 'culture', 'currently-reading', 'dark', 'date_read_group', 'death', 'default', 'demons', 'dnf', 'drama', 'dystopia', 'dystopian', 'e-book', 'e-books', 'ebook', 'ebooks', 'education', 'elementary', 'england', 'english', 'english-literature', 'epic', 'erotic', 'espionage', 'essays', 'europe', 'faith', 'family', 'family-relationships', 'fantasy', 'fantasy_scifi_group', 'faves', 'favorites', 'female-author', 'female-authors', 'feminism', 'fiction', 'fiction-fantasy', 'finished', 'finished-series', 'first-in-series', 'first-reads', 'fluff', 'for-school', 'friendship', 'fun', 'funny', 'futuristic', 'gave-up', 'gave-up-on', 'gay-and-lesbian', 'general', 'general-fiction', 'general_fiction_group', 'ghosts', 'gothic', 'graphic-novels', 'guilty-pleasure', 'guilty-pleasures', 'hardcover', 'have', 'high-school', 'historical', 'historical-fiction', 'historical-romance', 'history', 'home', 'horror', 'humor-and-comedy', 'in-my-library', 'inspirational', 'juvenile', 'juvenile-fiction', 'kid-books', 'kid-lit', 'kids-books', 'kindle', 'kindle-books', 'library', 'library-book', 'library-books', 'life', 'listened-to', 'lit', 'literary-fiction', 'literature', 'love', 'loved', 'loved-it', 'made-me-cry', 'magic', 'magical-realism', 'manga', 'maybe', 'meh', 'memoir', 'middle-school', 'military', 'modern', 'modern-fiction', 'movie', 'movies', 'murder', 'murder-mystery', 'must-read', 'my-books', 'my-ebooks', 'my-library', 'mystery', 'mystery-series', 'mystery-thriller', 'mystery_thriller_group', 'mythology', 'netgalley', 'never-finished', 'new-york', 'nonfiction', 'nook', 'not-interested', 'on-hold', 'on-kindle', 'on_shelf_group', 'other', 'overdrive', 'paperback', 'paranormal', 'part-of-a-series', 'personal-development', 'personal-library', 'philosophy', 'picture-book', 'picture-books', 'pnr', 'poetry', 'political', 'politics', 'post-apocalyptic', 'psychological', 'psychology', 'purchased', 'read-2010', 'read-2011', 'read-2012', 'read-2013', 'read-2014', 'read-2015', 'read-2016', 'read-2017', 'read-aloud', 'read-alouds', 'read-for-school', 'read-in-2010', 'read-in-2012', 'read-in-english', 'read-more-than-once', 'realistic', 'realistic-fiction', 'reference', 'relationships', 'religion', 'religious', 'reviewed', 'roman', 'romance', 'satire', 'scanned', 'school', 'school-books', 'science', 'science-fiction', 'self-help', 'series', 'series-to-read', 'sf', 'sf-f', 'sf-fantasy', 'sff', 'shelfari-wishlist', 'short-stories', 'short-story', 'signed', 'sociology', 'space', 'speculative-fiction', 'spirituality', 'stand-alone', 'standalone', 'stopped-reading', 'stories', 'sub', 'summer-reading', 'supernatural_group', 'survival', 'suspense', 'tbr', 'thriller', 'to-buy', 'to-get', 'to-read', 'to-read-fantasy', 'to-read-fiction', 'to-read-non-fiction', 'to_read_1001_group', 'translated', 'translation', 'travel', 'trilogy', 'uk', 'unfinished', 'usa', 'want', 'war', 'women', 'women-authors', 'women-s-fiction', 'women-writers', 'womens-fiction', 'ya-contemporary', 'ya-lit', 'young-adult', 'youth']\n"
     ]
    }
   ],
   "source": [
    "new_unique_tags = tagsdf['tag_name'].dropna().unique()\n",
    "new_unique_tags_sorted = sorted(new_unique_tags)\n",
    "\n",
    "print(\"List of all unique tags:\")\n",
    "print(new_unique_tags_sorted)"
   ]
  },
  {
   "cell_type": "code",
   "execution_count": 121,
   "id": "32cf2b2f",
   "metadata": {},
   "outputs": [
    {
     "data": {
      "text/plain": [
       "279"
      ]
     },
     "execution_count": 121,
     "metadata": {},
     "output_type": "execute_result"
    }
   ],
   "source": [
    "len(new_unique_tags_sorted)"
   ]
  },
  {
   "cell_type": "code",
   "execution_count": 122,
   "id": "ad13a8ab-e4dc-4479-bf39-0fb525e128c0",
   "metadata": {},
   "outputs": [],
   "source": [
    "tags = tagsdf"
   ]
  },
  {
   "cell_type": "markdown",
   "id": "00765ca9",
   "metadata": {},
   "source": [
    "#### So we brought the number of tags from 502 to 317"
   ]
  },
  {
   "cell_type": "markdown",
   "id": "49c1ae1c",
   "metadata": {},
   "source": [
    "### Concatenating all the tags (from separate rows) into one space-separated string per book"
   ]
  },
  {
   "cell_type": "code",
   "execution_count": 123,
   "id": "33dc814a",
   "metadata": {},
   "outputs": [],
   "source": [
    "grouped_tags = tags.groupby(['goodreads_book_id', 'title'])['tag_name'] \\\n",
    "                 .apply(lambda tags: ' '.join(tags)) \\\n",
    "                 .reset_index()"
   ]
  },
  {
   "cell_type": "code",
   "execution_count": 124,
   "id": "1be2acd8",
   "metadata": {},
   "outputs": [
    {
     "data": {
      "application/vnd.microsoft.datawrangler.viewer.v0+json": {
       "columns": [
        {
         "name": "index",
         "rawType": "int64",
         "type": "integer"
        },
        {
         "name": "goodreads_book_id",
         "rawType": "int64",
         "type": "integer"
        },
        {
         "name": "title",
         "rawType": "object",
         "type": "string"
        },
        {
         "name": "tag_name",
         "rawType": "object",
         "type": "string"
        }
       ],
       "conversionMethod": "pd.DataFrame",
       "ref": "2ba4240d-83ce-4a5c-8458-d1f04dff17aa",
       "rows": [
        [
         "0",
         "1",
         "Harry Potter and the Half-Blood Prince (Harry Potter, #6)",
         "to-read fantasy favorites currently-reading young-adult general_fiction_group books-i-own series magic children's adventure fantasy_scifi_group default my-books classics audiobook 5-stars audiobooks paranormal read-more-than-once my-library supernatural_group english british books date_read_group mystery library audio faves made-me-cry juvenile kindle youth romance to-buy kids-books ebook contemporary read-in-english 5-star coming-of-age england on_shelf_group"
        ],
        [
         "1",
         "2",
         "Harry Potter and the Order of the Phoenix (Harry Potter, #5)",
         "to-read currently-reading fantasy favorites children's default general_fiction_group young-adult audiobook books-i-own fantasy_scifi_group paranormal my-library supernatural_group british mystery library audio faves kindle youth juvenile date_read_group kids-books coming-of-age england 5-star magic classics have audio-books action movie romance british-literature juvenile-fiction finished borrowed science-fiction fiction-fantasy audiobooks female-author ya-lit middle-school"
        ],
        [
         "2",
         "3",
         "Harry Potter and the Sorcerer's Stone (Harry Potter, #1)",
         "to-read favorites fantasy currently-reading young-adult general_fiction_group books-i-own series magic children's adventure classics fantasy_scifi_group my-books audiobook default 5-stars audiobooks date_read_group paranormal read-more-than-once my-library books english supernatural_group british mystery audio library faves juvenile kindle kids-books read-in-english youth read-2016 ebook contemporary friendship on_shelf_group to-buy read-2015 england"
        ],
        [
         "3",
         "5",
         "Harry Potter and the Prisoner of Azkaban (Harry Potter, #3)",
         "favorites fantasy currently-reading young-adult to-read general_fiction_group books-i-own series magic children's adventure fantasy_scifi_group classics my-books default audiobook 5-stars audiobooks read-more-than-once paranormal date_read_group my-library english supernatural_group british books mystery audio library faves juvenile kindle youth kids-books read-in-english contemporary ebook to-buy on_shelf_group read-2016 5-star england friendship audio-books"
        ],
        [
         "4",
         "6",
         "Harry Potter and the Goblet of Fire (Harry Potter, #4)",
         "fantasy young-adult general_fiction_group books-i-own series favorites children's to-read adventure fantasy_scifi_group classics my-books default audiobook 5-stars audiobooks read-more-than-once paranormal my-library date_read_group supernatural_group english british books mystery audio library faves kindle youth juvenile kids-books to-buy ebook contemporary coming-of-age england 5-star on_shelf_group read-in-english friendship read-2016 audio-books"
        ]
       ],
       "shape": {
        "columns": 3,
        "rows": 5
       }
      },
      "text/html": [
       "<div>\n",
       "<style scoped>\n",
       "    .dataframe tbody tr th:only-of-type {\n",
       "        vertical-align: middle;\n",
       "    }\n",
       "\n",
       "    .dataframe tbody tr th {\n",
       "        vertical-align: top;\n",
       "    }\n",
       "\n",
       "    .dataframe thead th {\n",
       "        text-align: right;\n",
       "    }\n",
       "</style>\n",
       "<table border=\"1\" class=\"dataframe\">\n",
       "  <thead>\n",
       "    <tr style=\"text-align: right;\">\n",
       "      <th></th>\n",
       "      <th>goodreads_book_id</th>\n",
       "      <th>title</th>\n",
       "      <th>tag_name</th>\n",
       "    </tr>\n",
       "  </thead>\n",
       "  <tbody>\n",
       "    <tr>\n",
       "      <th>0</th>\n",
       "      <td>1</td>\n",
       "      <td>Harry Potter and the Half-Blood Prince (Harry ...</td>\n",
       "      <td>to-read fantasy favorites currently-reading yo...</td>\n",
       "    </tr>\n",
       "    <tr>\n",
       "      <th>1</th>\n",
       "      <td>2</td>\n",
       "      <td>Harry Potter and the Order of the Phoenix (Har...</td>\n",
       "      <td>to-read currently-reading fantasy favorites ch...</td>\n",
       "    </tr>\n",
       "    <tr>\n",
       "      <th>2</th>\n",
       "      <td>3</td>\n",
       "      <td>Harry Potter and the Sorcerer's Stone (Harry P...</td>\n",
       "      <td>to-read favorites fantasy currently-reading yo...</td>\n",
       "    </tr>\n",
       "    <tr>\n",
       "      <th>3</th>\n",
       "      <td>5</td>\n",
       "      <td>Harry Potter and the Prisoner of Azkaban (Harr...</td>\n",
       "      <td>favorites fantasy currently-reading young-adul...</td>\n",
       "    </tr>\n",
       "    <tr>\n",
       "      <th>4</th>\n",
       "      <td>6</td>\n",
       "      <td>Harry Potter and the Goblet of Fire (Harry Pot...</td>\n",
       "      <td>fantasy young-adult general_fiction_group book...</td>\n",
       "    </tr>\n",
       "  </tbody>\n",
       "</table>\n",
       "</div>"
      ],
      "text/plain": [
       "   goodreads_book_id                                              title  \\\n",
       "0                  1  Harry Potter and the Half-Blood Prince (Harry ...   \n",
       "1                  2  Harry Potter and the Order of the Phoenix (Har...   \n",
       "2                  3  Harry Potter and the Sorcerer's Stone (Harry P...   \n",
       "3                  5  Harry Potter and the Prisoner of Azkaban (Harr...   \n",
       "4                  6  Harry Potter and the Goblet of Fire (Harry Pot...   \n",
       "\n",
       "                                            tag_name  \n",
       "0  to-read fantasy favorites currently-reading yo...  \n",
       "1  to-read currently-reading fantasy favorites ch...  \n",
       "2  to-read favorites fantasy currently-reading yo...  \n",
       "3  favorites fantasy currently-reading young-adul...  \n",
       "4  fantasy young-adult general_fiction_group book...  "
      ]
     },
     "execution_count": 124,
     "metadata": {},
     "output_type": "execute_result"
    }
   ],
   "source": [
    "grouped_tags.head(5)"
   ]
  },
  {
   "cell_type": "code",
   "execution_count": 125,
   "id": "b155ff23",
   "metadata": {},
   "outputs": [
    {
     "data": {
      "text/plain": [
       "(10000, 3)"
      ]
     },
     "execution_count": 125,
     "metadata": {},
     "output_type": "execute_result"
    }
   ],
   "source": [
    "grouped_tags.shape"
   ]
  },
  {
   "cell_type": "markdown",
   "id": "696124f2-d58b-40e7-9637-3ff039ef54ea",
   "metadata": {},
   "source": [
    "### Creating new book csv with description and all tags"
   ]
  },
  {
   "cell_type": "code",
   "execution_count": 126,
   "id": "a26982ff",
   "metadata": {},
   "outputs": [],
   "source": [
    "books = books[['book_id', 'goodreads_book_id', 'title', 'authors', 'average_rating', 'ratings_count']]"
   ]
  },
  {
   "cell_type": "code",
   "execution_count": 127,
   "id": "e3234fb0-7ba6-49ca-a433-2eaf826596bc",
   "metadata": {},
   "outputs": [
    {
     "data": {
      "application/vnd.microsoft.datawrangler.viewer.v0+json": {
       "columns": [
        {
         "name": "index",
         "rawType": "int64",
         "type": "integer"
        },
        {
         "name": "book_id",
         "rawType": "int64",
         "type": "integer"
        },
        {
         "name": "goodreads_book_id",
         "rawType": "int64",
         "type": "integer"
        },
        {
         "name": "title",
         "rawType": "object",
         "type": "string"
        },
        {
         "name": "authors",
         "rawType": "object",
         "type": "string"
        },
        {
         "name": "average_rating",
         "rawType": "float64",
         "type": "float"
        },
        {
         "name": "ratings_count",
         "rawType": "int64",
         "type": "integer"
        }
       ],
       "conversionMethod": "pd.DataFrame",
       "ref": "63897a9c-b987-425c-925c-4cc20c46fdfb",
       "rows": [
        [
         "0",
         "1",
         "2767052",
         "The Hunger Games (The Hunger Games, #1)",
         "Suzanne Collins",
         "4.34",
         "4780653"
        ],
        [
         "1",
         "2",
         "3",
         "Harry Potter and the Sorcerer's Stone (Harry Potter, #1)",
         "J.K. Rowling, Mary GrandPré",
         "4.44",
         "4602479"
        ],
        [
         "2",
         "3",
         "41865",
         "Twilight (Twilight, #1)",
         "Stephenie Meyer",
         "3.57",
         "3866839"
        ],
        [
         "3",
         "4",
         "2657",
         "To Kill a Mockingbird",
         "Harper Lee",
         "4.25",
         "3198671"
        ],
        [
         "4",
         "5",
         "4671",
         "The Great Gatsby",
         "F. Scott Fitzgerald",
         "3.89",
         "2683664"
        ]
       ],
       "shape": {
        "columns": 6,
        "rows": 5
       }
      },
      "text/html": [
       "<div>\n",
       "<style scoped>\n",
       "    .dataframe tbody tr th:only-of-type {\n",
       "        vertical-align: middle;\n",
       "    }\n",
       "\n",
       "    .dataframe tbody tr th {\n",
       "        vertical-align: top;\n",
       "    }\n",
       "\n",
       "    .dataframe thead th {\n",
       "        text-align: right;\n",
       "    }\n",
       "</style>\n",
       "<table border=\"1\" class=\"dataframe\">\n",
       "  <thead>\n",
       "    <tr style=\"text-align: right;\">\n",
       "      <th></th>\n",
       "      <th>book_id</th>\n",
       "      <th>goodreads_book_id</th>\n",
       "      <th>title</th>\n",
       "      <th>authors</th>\n",
       "      <th>average_rating</th>\n",
       "      <th>ratings_count</th>\n",
       "    </tr>\n",
       "  </thead>\n",
       "  <tbody>\n",
       "    <tr>\n",
       "      <th>0</th>\n",
       "      <td>1</td>\n",
       "      <td>2767052</td>\n",
       "      <td>The Hunger Games (The Hunger Games, #1)</td>\n",
       "      <td>Suzanne Collins</td>\n",
       "      <td>4.34</td>\n",
       "      <td>4780653</td>\n",
       "    </tr>\n",
       "    <tr>\n",
       "      <th>1</th>\n",
       "      <td>2</td>\n",
       "      <td>3</td>\n",
       "      <td>Harry Potter and the Sorcerer's Stone (Harry P...</td>\n",
       "      <td>J.K. Rowling, Mary GrandPré</td>\n",
       "      <td>4.44</td>\n",
       "      <td>4602479</td>\n",
       "    </tr>\n",
       "    <tr>\n",
       "      <th>2</th>\n",
       "      <td>3</td>\n",
       "      <td>41865</td>\n",
       "      <td>Twilight (Twilight, #1)</td>\n",
       "      <td>Stephenie Meyer</td>\n",
       "      <td>3.57</td>\n",
       "      <td>3866839</td>\n",
       "    </tr>\n",
       "    <tr>\n",
       "      <th>3</th>\n",
       "      <td>4</td>\n",
       "      <td>2657</td>\n",
       "      <td>To Kill a Mockingbird</td>\n",
       "      <td>Harper Lee</td>\n",
       "      <td>4.25</td>\n",
       "      <td>3198671</td>\n",
       "    </tr>\n",
       "    <tr>\n",
       "      <th>4</th>\n",
       "      <td>5</td>\n",
       "      <td>4671</td>\n",
       "      <td>The Great Gatsby</td>\n",
       "      <td>F. Scott Fitzgerald</td>\n",
       "      <td>3.89</td>\n",
       "      <td>2683664</td>\n",
       "    </tr>\n",
       "  </tbody>\n",
       "</table>\n",
       "</div>"
      ],
      "text/plain": [
       "   book_id  goodreads_book_id  \\\n",
       "0        1            2767052   \n",
       "1        2                  3   \n",
       "2        3              41865   \n",
       "3        4               2657   \n",
       "4        5               4671   \n",
       "\n",
       "                                               title  \\\n",
       "0            The Hunger Games (The Hunger Games, #1)   \n",
       "1  Harry Potter and the Sorcerer's Stone (Harry P...   \n",
       "2                            Twilight (Twilight, #1)   \n",
       "3                              To Kill a Mockingbird   \n",
       "4                                   The Great Gatsby   \n",
       "\n",
       "                       authors  average_rating  ratings_count  \n",
       "0              Suzanne Collins            4.34        4780653  \n",
       "1  J.K. Rowling, Mary GrandPré            4.44        4602479  \n",
       "2              Stephenie Meyer            3.57        3866839  \n",
       "3                   Harper Lee            4.25        3198671  \n",
       "4          F. Scott Fitzgerald            3.89        2683664  "
      ]
     },
     "execution_count": 127,
     "metadata": {},
     "output_type": "execute_result"
    }
   ],
   "source": [
    "books.head()"
   ]
  },
  {
   "cell_type": "code",
   "execution_count": 128,
   "id": "9f074c1f",
   "metadata": {},
   "outputs": [
    {
     "data": {
      "application/vnd.microsoft.datawrangler.viewer.v0+json": {
       "columns": [
        {
         "name": "index",
         "rawType": "int64",
         "type": "integer"
        },
        {
         "name": "goodreads_book_id",
         "rawType": "int64",
         "type": "integer"
        },
        {
         "name": "title",
         "rawType": "object",
         "type": "string"
        },
        {
         "name": "tag_name",
         "rawType": "object",
         "type": "string"
        }
       ],
       "conversionMethod": "pd.DataFrame",
       "ref": "e22a7f01-bdc0-4b31-b6b6-28f863826cfc",
       "rows": [
        [
         "0",
         "1",
         "Harry Potter and the Half-Blood Prince (Harry Potter, #6)",
         "to-read fantasy favorites currently-reading young-adult general_fiction_group books-i-own series magic children's adventure fantasy_scifi_group default my-books classics audiobook 5-stars audiobooks paranormal read-more-than-once my-library supernatural_group english british books date_read_group mystery library audio faves made-me-cry juvenile kindle youth romance to-buy kids-books ebook contemporary read-in-english 5-star coming-of-age england on_shelf_group"
        ],
        [
         "1",
         "2",
         "Harry Potter and the Order of the Phoenix (Harry Potter, #5)",
         "to-read currently-reading fantasy favorites children's default general_fiction_group young-adult audiobook books-i-own fantasy_scifi_group paranormal my-library supernatural_group british mystery library audio faves kindle youth juvenile date_read_group kids-books coming-of-age england 5-star magic classics have audio-books action movie romance british-literature juvenile-fiction finished borrowed science-fiction fiction-fantasy audiobooks female-author ya-lit middle-school"
        ],
        [
         "2",
         "3",
         "Harry Potter and the Sorcerer's Stone (Harry Potter, #1)",
         "to-read favorites fantasy currently-reading young-adult general_fiction_group books-i-own series magic children's adventure classics fantasy_scifi_group my-books audiobook default 5-stars audiobooks date_read_group paranormal read-more-than-once my-library books english supernatural_group british mystery audio library faves juvenile kindle kids-books read-in-english youth read-2016 ebook contemporary friendship on_shelf_group to-buy read-2015 england"
        ],
        [
         "3",
         "5",
         "Harry Potter and the Prisoner of Azkaban (Harry Potter, #3)",
         "favorites fantasy currently-reading young-adult to-read general_fiction_group books-i-own series magic children's adventure fantasy_scifi_group classics my-books default audiobook 5-stars audiobooks read-more-than-once paranormal date_read_group my-library english supernatural_group british books mystery audio library faves juvenile kindle youth kids-books read-in-english contemporary ebook to-buy on_shelf_group read-2016 5-star england friendship audio-books"
        ],
        [
         "4",
         "6",
         "Harry Potter and the Goblet of Fire (Harry Potter, #4)",
         "fantasy young-adult general_fiction_group books-i-own series favorites children's to-read adventure fantasy_scifi_group classics my-books default audiobook 5-stars audiobooks read-more-than-once paranormal my-library date_read_group supernatural_group english british books mystery audio library faves kindle youth juvenile kids-books to-buy ebook contemporary coming-of-age england 5-star on_shelf_group read-in-english friendship read-2016 audio-books"
        ]
       ],
       "shape": {
        "columns": 3,
        "rows": 5
       }
      },
      "text/html": [
       "<div>\n",
       "<style scoped>\n",
       "    .dataframe tbody tr th:only-of-type {\n",
       "        vertical-align: middle;\n",
       "    }\n",
       "\n",
       "    .dataframe tbody tr th {\n",
       "        vertical-align: top;\n",
       "    }\n",
       "\n",
       "    .dataframe thead th {\n",
       "        text-align: right;\n",
       "    }\n",
       "</style>\n",
       "<table border=\"1\" class=\"dataframe\">\n",
       "  <thead>\n",
       "    <tr style=\"text-align: right;\">\n",
       "      <th></th>\n",
       "      <th>goodreads_book_id</th>\n",
       "      <th>title</th>\n",
       "      <th>tag_name</th>\n",
       "    </tr>\n",
       "  </thead>\n",
       "  <tbody>\n",
       "    <tr>\n",
       "      <th>0</th>\n",
       "      <td>1</td>\n",
       "      <td>Harry Potter and the Half-Blood Prince (Harry ...</td>\n",
       "      <td>to-read fantasy favorites currently-reading yo...</td>\n",
       "    </tr>\n",
       "    <tr>\n",
       "      <th>1</th>\n",
       "      <td>2</td>\n",
       "      <td>Harry Potter and the Order of the Phoenix (Har...</td>\n",
       "      <td>to-read currently-reading fantasy favorites ch...</td>\n",
       "    </tr>\n",
       "    <tr>\n",
       "      <th>2</th>\n",
       "      <td>3</td>\n",
       "      <td>Harry Potter and the Sorcerer's Stone (Harry P...</td>\n",
       "      <td>to-read favorites fantasy currently-reading yo...</td>\n",
       "    </tr>\n",
       "    <tr>\n",
       "      <th>3</th>\n",
       "      <td>5</td>\n",
       "      <td>Harry Potter and the Prisoner of Azkaban (Harr...</td>\n",
       "      <td>favorites fantasy currently-reading young-adul...</td>\n",
       "    </tr>\n",
       "    <tr>\n",
       "      <th>4</th>\n",
       "      <td>6</td>\n",
       "      <td>Harry Potter and the Goblet of Fire (Harry Pot...</td>\n",
       "      <td>fantasy young-adult general_fiction_group book...</td>\n",
       "    </tr>\n",
       "  </tbody>\n",
       "</table>\n",
       "</div>"
      ],
      "text/plain": [
       "   goodreads_book_id                                              title  \\\n",
       "0                  1  Harry Potter and the Half-Blood Prince (Harry ...   \n",
       "1                  2  Harry Potter and the Order of the Phoenix (Har...   \n",
       "2                  3  Harry Potter and the Sorcerer's Stone (Harry P...   \n",
       "3                  5  Harry Potter and the Prisoner of Azkaban (Harr...   \n",
       "4                  6  Harry Potter and the Goblet of Fire (Harry Pot...   \n",
       "\n",
       "                                            tag_name  \n",
       "0  to-read fantasy favorites currently-reading yo...  \n",
       "1  to-read currently-reading fantasy favorites ch...  \n",
       "2  to-read favorites fantasy currently-reading yo...  \n",
       "3  favorites fantasy currently-reading young-adul...  \n",
       "4  fantasy young-adult general_fiction_group book...  "
      ]
     },
     "execution_count": 128,
     "metadata": {},
     "output_type": "execute_result"
    }
   ],
   "source": [
    "grouped_tags.head()"
   ]
  },
  {
   "cell_type": "code",
   "execution_count": 129,
   "id": "ff5f24f2",
   "metadata": {},
   "outputs": [],
   "source": [
    "booktags = grouped_tags.copy()"
   ]
  },
  {
   "cell_type": "markdown",
   "id": "ceeb5cb4",
   "metadata": {},
   "source": [
    "#### we have another dataset books_enriched which also contains the book genres and summary, which will be later used for content-based filtering. "
   ]
  },
  {
   "cell_type": "code",
   "execution_count": 130,
   "id": "23ecfb9d",
   "metadata": {},
   "outputs": [
    {
     "name": "stdout",
     "output_type": "stream",
     "text": [
      "<class 'pandas.core.frame.DataFrame'>\n",
      "RangeIndex: 10000 entries, 0 to 9999\n",
      "Data columns (total 30 columns):\n",
      " #   Column                     Non-Null Count  Dtype  \n",
      "---  ------                     --------------  -----  \n",
      " 0   Unnamed: 0                 10000 non-null  int64  \n",
      " 1   index                      10000 non-null  int64  \n",
      " 2   authors                    10000 non-null  object \n",
      " 3   average_rating             10000 non-null  float64\n",
      " 4   best_book_id               10000 non-null  int64  \n",
      " 5   book_id                    10000 non-null  int64  \n",
      " 6   books_count                10000 non-null  int64  \n",
      " 7   description                9943 non-null   object \n",
      " 8   genres                     10000 non-null  object \n",
      " 9   goodreads_book_id          10000 non-null  int64  \n",
      " 10  image_url                  10000 non-null  object \n",
      " 11  isbn                       9300 non-null   object \n",
      " 12  isbn13                     9415 non-null   float64\n",
      " 13  language_code              10000 non-null  object \n",
      " 14  original_publication_year  9979 non-null   float64\n",
      " 15  original_title             9415 non-null   object \n",
      " 16  pages                      9927 non-null   float64\n",
      " 17  publishDate                9992 non-null   object \n",
      " 18  ratings_1                  10000 non-null  int64  \n",
      " 19  ratings_2                  10000 non-null  int64  \n",
      " 20  ratings_3                  10000 non-null  int64  \n",
      " 21  ratings_4                  10000 non-null  int64  \n",
      " 22  ratings_5                  10000 non-null  int64  \n",
      " 23  ratings_count              10000 non-null  int64  \n",
      " 24  small_image_url            10000 non-null  object \n",
      " 25  title                      10000 non-null  object \n",
      " 26  work_id                    10000 non-null  int64  \n",
      " 27  work_ratings_count         10000 non-null  int64  \n",
      " 28  work_text_reviews_count    10000 non-null  int64  \n",
      " 29  authors_2                  10000 non-null  object \n",
      "dtypes: float64(4), int64(15), object(11)\n",
      "memory usage: 2.3+ MB\n"
     ]
    }
   ],
   "source": [
    "books_enriched.info(2)"
   ]
  },
  {
   "cell_type": "code",
   "execution_count": 131,
   "id": "50d02d7b",
   "metadata": {},
   "outputs": [],
   "source": [
    "# selecting the columns from books_enriched that we want to join:\n",
    "subset = books_enriched[['goodreads_book_id', 'description', 'genres', 'language_code']]\n",
    "merged_books = pd.merge(books, subset, on='goodreads_book_id', how='left')\n"
   ]
  },
  {
   "cell_type": "code",
   "execution_count": 132,
   "id": "51b8af92",
   "metadata": {},
   "outputs": [
    {
     "data": {
      "application/vnd.microsoft.datawrangler.viewer.v0+json": {
       "columns": [
        {
         "name": "index",
         "rawType": "int64",
         "type": "integer"
        },
        {
         "name": "book_id",
         "rawType": "int64",
         "type": "integer"
        },
        {
         "name": "goodreads_book_id",
         "rawType": "int64",
         "type": "integer"
        },
        {
         "name": "title",
         "rawType": "object",
         "type": "string"
        },
        {
         "name": "authors",
         "rawType": "object",
         "type": "string"
        },
        {
         "name": "average_rating",
         "rawType": "float64",
         "type": "float"
        },
        {
         "name": "ratings_count",
         "rawType": "int64",
         "type": "integer"
        },
        {
         "name": "description",
         "rawType": "object",
         "type": "string"
        },
        {
         "name": "genres",
         "rawType": "object",
         "type": "string"
        },
        {
         "name": "language_code",
         "rawType": "object",
         "type": "string"
        }
       ],
       "conversionMethod": "pd.DataFrame",
       "ref": "aaa1f8dc-1ec1-4ca1-b0c3-16041b04b132",
       "rows": [
        [
         "0",
         "1",
         "2767052",
         "The Hunger Games (The Hunger Games, #1)",
         "Suzanne Collins",
         "4.34",
         "4780653",
         "WINNING MEANS FAME AND FORTUNE.LOSING MEANS CERTAIN DEATH.THE HUNGER GAMES HAVE BEGUN. . . .In the ruins of a place once known as North America lies the nation of Panem, a shining Capitol surrounded by twelve outlying districts. The Capitol is harsh and cruel and keeps the districts in line by forcing them all to send one boy and once girl between the ages of twelve and eighteen to participate in the annual Hunger Games, a fight to the death on live TV.Sixteen-year-old Katniss Everdeen regards it as a death sentence when she steps forward to take her sister's place in the Games. But Katniss has been close to dead before—and survival, for her, is second nature. Without really meaning to, she becomes a contender. But if she is to win, she will have to start making choices that weight survival against humanity and life against love.",
         "['young-adult', 'fiction', 'fantasy', 'science-fiction', 'romance']",
         "eng"
        ],
        [
         "1",
         "2",
         "3",
         "Harry Potter and the Sorcerer's Stone (Harry Potter, #1)",
         "J.K. Rowling, Mary GrandPré",
         "4.44",
         "4602479",
         "Harry Potter's life is miserable. His parents are dead and he's stuck with his heartless relatives, who force him to live in a tiny closet under the stairs. But his fortune changes when he receives a letter that tells him the truth about himself: he's a wizard. A mysterious visitor rescues him from his relatives and takes him to his new home, Hogwarts School of Witchcraft and Wizardry.After a lifetime of bottling up his magical powers, Harry finally feels like a normal kid. But even within the Wizarding community, he is special. He is the boy who lived: the only person to have ever survived a killing curse inflicted by the evil Lord Voldemort, who launched a brutal takeover of the Wizarding world, only to vanish after failing to kill Harry.Though Harry's first year at Hogwarts is the best of his life, not everything is perfect. There is a dangerous secret object hidden within the castle walls, and Harry believes it's his responsibility to prevent it from falling into evil hands. But doing so will bring him into contact with forces more terrifying than he ever could have imagined.Full of sympathetic characters, wildly imaginative situations, and countless exciting details, the first installment in the series assembles an unforgettable magical world and sets the stage for many high-stakes adventures to come.",
         "['fantasy', 'fiction', 'young-adult', 'classics']",
         "eng"
        ],
        [
         "2",
         "3",
         "41865",
         "Twilight (Twilight, #1)",
         "Stephenie Meyer",
         "3.57",
         "3866839",
         "About three things I was absolutely positive.\n\nFirst, Edward was a vampire.\n\nSecond, there was a part of him—and I didn't know how dominant that part might be—that thirsted for my blood.\n\nAnd third, I was unconditionally and irrevocably in love with him.\n\nDeeply seductive and extraordinarily suspenseful, Twilight is a love story with bite.",
         "['young-adult', 'fantasy', 'romance', 'fiction', 'paranormal']",
         "eng"
        ],
        [
         "3",
         "4",
         "2657",
         "To Kill a Mockingbird",
         "Harper Lee",
         "4.25",
         "3198671",
         "The unforgettable novel of a childhood in a sleepy Southern town and the crisis of conscience that rocked it, To Kill A Mockingbird became both an instant bestseller and a critical success when it was first published in 1960. It went on to win the Pulitzer Prize in 1961 and was later made into an Academy Award-winning film, also a classic.Compassionate, dramatic, and deeply moving, To Kill A Mockingbird takes readers to the roots of human behavior - to innocence and experience, kindness and cruelty, love and hatred, humor and pathos. Now with over 18 million copies in print and translated into forty languages, this regional story by a young Alabama woman claims universal appeal. Harper Lee always considered her book to be a simple love story. Today it is regarded as a masterpiece of American literature.",
         "['classics', 'fiction', 'historical-fiction', 'young-adult']",
         "eng"
        ],
        [
         "4",
         "5",
         "4671",
         "The Great Gatsby",
         "F. Scott Fitzgerald",
         "3.89",
         "2683664",
         "The Great Gatsby, F. Scott Fitzgerald's third book, stands as the supreme achievement of his career. This exemplary novel of the Jazz Age has been acclaimed by generations of readers. The story is of the fabulously wealthy Jay Gatsby and his new love for the beautiful Daisy Buchanan, of lavish parties on Long Island at a time when The New York Times noted \"gin was the national drink and sex the national obsession,\" it is an exquisitely crafted tale of America in the 1920s.The Great Gatsby is one of the great classics of twentieth-century literature.(back cover)",
         "['classics', 'fiction', 'historical-fiction', 'romance']",
         "eng"
        ]
       ],
       "shape": {
        "columns": 9,
        "rows": 5
       }
      },
      "text/html": [
       "<div>\n",
       "<style scoped>\n",
       "    .dataframe tbody tr th:only-of-type {\n",
       "        vertical-align: middle;\n",
       "    }\n",
       "\n",
       "    .dataframe tbody tr th {\n",
       "        vertical-align: top;\n",
       "    }\n",
       "\n",
       "    .dataframe thead th {\n",
       "        text-align: right;\n",
       "    }\n",
       "</style>\n",
       "<table border=\"1\" class=\"dataframe\">\n",
       "  <thead>\n",
       "    <tr style=\"text-align: right;\">\n",
       "      <th></th>\n",
       "      <th>book_id</th>\n",
       "      <th>goodreads_book_id</th>\n",
       "      <th>title</th>\n",
       "      <th>authors</th>\n",
       "      <th>average_rating</th>\n",
       "      <th>ratings_count</th>\n",
       "      <th>description</th>\n",
       "      <th>genres</th>\n",
       "      <th>language_code</th>\n",
       "    </tr>\n",
       "  </thead>\n",
       "  <tbody>\n",
       "    <tr>\n",
       "      <th>0</th>\n",
       "      <td>1</td>\n",
       "      <td>2767052</td>\n",
       "      <td>The Hunger Games (The Hunger Games, #1)</td>\n",
       "      <td>Suzanne Collins</td>\n",
       "      <td>4.34</td>\n",
       "      <td>4780653</td>\n",
       "      <td>WINNING MEANS FAME AND FORTUNE.LOSING MEANS CE...</td>\n",
       "      <td>['young-adult', 'fiction', 'fantasy', 'science...</td>\n",
       "      <td>eng</td>\n",
       "    </tr>\n",
       "    <tr>\n",
       "      <th>1</th>\n",
       "      <td>2</td>\n",
       "      <td>3</td>\n",
       "      <td>Harry Potter and the Sorcerer's Stone (Harry P...</td>\n",
       "      <td>J.K. Rowling, Mary GrandPré</td>\n",
       "      <td>4.44</td>\n",
       "      <td>4602479</td>\n",
       "      <td>Harry Potter's life is miserable. His parents ...</td>\n",
       "      <td>['fantasy', 'fiction', 'young-adult', 'classics']</td>\n",
       "      <td>eng</td>\n",
       "    </tr>\n",
       "    <tr>\n",
       "      <th>2</th>\n",
       "      <td>3</td>\n",
       "      <td>41865</td>\n",
       "      <td>Twilight (Twilight, #1)</td>\n",
       "      <td>Stephenie Meyer</td>\n",
       "      <td>3.57</td>\n",
       "      <td>3866839</td>\n",
       "      <td>About three things I was absolutely positive.\\...</td>\n",
       "      <td>['young-adult', 'fantasy', 'romance', 'fiction...</td>\n",
       "      <td>eng</td>\n",
       "    </tr>\n",
       "    <tr>\n",
       "      <th>3</th>\n",
       "      <td>4</td>\n",
       "      <td>2657</td>\n",
       "      <td>To Kill a Mockingbird</td>\n",
       "      <td>Harper Lee</td>\n",
       "      <td>4.25</td>\n",
       "      <td>3198671</td>\n",
       "      <td>The unforgettable novel of a childhood in a sl...</td>\n",
       "      <td>['classics', 'fiction', 'historical-fiction', ...</td>\n",
       "      <td>eng</td>\n",
       "    </tr>\n",
       "    <tr>\n",
       "      <th>4</th>\n",
       "      <td>5</td>\n",
       "      <td>4671</td>\n",
       "      <td>The Great Gatsby</td>\n",
       "      <td>F. Scott Fitzgerald</td>\n",
       "      <td>3.89</td>\n",
       "      <td>2683664</td>\n",
       "      <td>The Great Gatsby, F. Scott Fitzgerald's third ...</td>\n",
       "      <td>['classics', 'fiction', 'historical-fiction', ...</td>\n",
       "      <td>eng</td>\n",
       "    </tr>\n",
       "  </tbody>\n",
       "</table>\n",
       "</div>"
      ],
      "text/plain": [
       "   book_id  goodreads_book_id  \\\n",
       "0        1            2767052   \n",
       "1        2                  3   \n",
       "2        3              41865   \n",
       "3        4               2657   \n",
       "4        5               4671   \n",
       "\n",
       "                                               title  \\\n",
       "0            The Hunger Games (The Hunger Games, #1)   \n",
       "1  Harry Potter and the Sorcerer's Stone (Harry P...   \n",
       "2                            Twilight (Twilight, #1)   \n",
       "3                              To Kill a Mockingbird   \n",
       "4                                   The Great Gatsby   \n",
       "\n",
       "                       authors  average_rating  ratings_count  \\\n",
       "0              Suzanne Collins            4.34        4780653   \n",
       "1  J.K. Rowling, Mary GrandPré            4.44        4602479   \n",
       "2              Stephenie Meyer            3.57        3866839   \n",
       "3                   Harper Lee            4.25        3198671   \n",
       "4          F. Scott Fitzgerald            3.89        2683664   \n",
       "\n",
       "                                         description  \\\n",
       "0  WINNING MEANS FAME AND FORTUNE.LOSING MEANS CE...   \n",
       "1  Harry Potter's life is miserable. His parents ...   \n",
       "2  About three things I was absolutely positive.\\...   \n",
       "3  The unforgettable novel of a childhood in a sl...   \n",
       "4  The Great Gatsby, F. Scott Fitzgerald's third ...   \n",
       "\n",
       "                                              genres language_code  \n",
       "0  ['young-adult', 'fiction', 'fantasy', 'science...           eng  \n",
       "1  ['fantasy', 'fiction', 'young-adult', 'classics']           eng  \n",
       "2  ['young-adult', 'fantasy', 'romance', 'fiction...           eng  \n",
       "3  ['classics', 'fiction', 'historical-fiction', ...           eng  \n",
       "4  ['classics', 'fiction', 'historical-fiction', ...           eng  "
      ]
     },
     "execution_count": 132,
     "metadata": {},
     "output_type": "execute_result"
    }
   ],
   "source": [
    "merged_books.head()"
   ]
  },
  {
   "cell_type": "markdown",
   "id": "e203e3ba",
   "metadata": {},
   "source": [
    "### combining Genres & Tags into Final Book Table\n",
    "##### 1. Parse 'genres' into Python lists\n",
    "##### 2. Parse and group 'tag_name' from booktags\n",
    "##### 3. Merge parsed tags into books"
   ]
  },
  {
   "cell_type": "code",
   "execution_count": 133,
   "id": "45a34c5e",
   "metadata": {},
   "outputs": [],
   "source": [
    "def parse_genres(x):\n",
    "    if pd.isna(x):\n",
    "        return []\n",
    "    try:\n",
    "        return ast.literal_eval(x)\n",
    "    except:\n",
    "        return [g.strip() for g in str(x).strip('[]').split(',') if g.strip()]\n",
    "\n",
    "merged_books['parsed_genres'] = merged_books['genres'].apply(parse_genres)"
   ]
  },
  {
   "cell_type": "code",
   "execution_count": 135,
   "id": "8c9715e7",
   "metadata": {},
   "outputs": [],
   "source": [
    "# Turn each tag_name string into a list of tags\n",
    "booktags['parsed_tags'] = booktags['tag_name'].fillna('').apply(lambda s: [t for t in s.split() if t])"
   ]
  },
  {
   "cell_type": "code",
   "execution_count": 137,
   "id": "221af34a",
   "metadata": {},
   "outputs": [],
   "source": [
    "# Aggregate all tags per book\n",
    "grouped_tags = (\n",
    "    booktags\n",
    "    .groupby('goodreads_book_id')['parsed_tags']\n",
    "    .apply(lambda lists: sum(lists, []))\n",
    "    .reset_index()\n",
    ")"
   ]
  },
  {
   "cell_type": "code",
   "execution_count": 138,
   "id": "1fa53719",
   "metadata": {},
   "outputs": [],
   "source": [
    "# Merge the tags back into merged_books\n",
    "final_df = merged_books.merge(grouped_tags, on='goodreads_book_id', how='left')\n",
    "\n",
    "final_df['parsed_tags'] = final_df['parsed_tags'].apply(\n",
    "    lambda x: x if isinstance(x, list) else []\n",
    ")"
   ]
  },
  {
   "cell_type": "code",
   "execution_count": 139,
   "id": "256a6ba8",
   "metadata": {},
   "outputs": [],
   "source": [
    "# Dedupe & sort the union of genres+tags\n",
    "final_df['unique_tags'] = final_df.apply(\n",
    "    lambda row: sorted(set(row['parsed_genres']) | set(row['parsed_tags'])),\n",
    "    axis=1\n",
    ")\n",
    "\n",
    "final_df['unique_tags_str'] = final_df['unique_tags'].apply(\n",
    "    lambda lst: \", \".join(lst)\n",
    ")"
   ]
  },
  {
   "cell_type": "code",
   "execution_count": 140,
   "id": "b34f8f0d",
   "metadata": {},
   "outputs": [],
   "source": [
    "output = final_df[[\n",
    "    'book_id', 'goodreads_book_id', 'title', 'authors', 'average_rating', 'ratings_count',\n",
    "    'description', 'unique_tags', 'unique_tags_str'\n",
    "]]\n",
    "output.to_csv('data/FINAL-BOOKS-WITH-TAGS.csv', index = False)\n"
   ]
  },
  {
   "cell_type": "code",
   "execution_count": 141,
   "id": "3fd38660",
   "metadata": {},
   "outputs": [
    {
     "data": {
      "application/vnd.microsoft.datawrangler.viewer.v0+json": {
       "columns": [
        {
         "name": "index",
         "rawType": "int64",
         "type": "integer"
        },
        {
         "name": "book_id",
         "rawType": "int64",
         "type": "integer"
        },
        {
         "name": "goodreads_book_id",
         "rawType": "int64",
         "type": "integer"
        },
        {
         "name": "title",
         "rawType": "object",
         "type": "string"
        },
        {
         "name": "authors",
         "rawType": "object",
         "type": "string"
        },
        {
         "name": "average_rating",
         "rawType": "float64",
         "type": "float"
        },
        {
         "name": "ratings_count",
         "rawType": "int64",
         "type": "integer"
        },
        {
         "name": "description",
         "rawType": "object",
         "type": "string"
        },
        {
         "name": "unique_tags",
         "rawType": "object",
         "type": "unknown"
        },
        {
         "name": "unique_tags_str",
         "rawType": "object",
         "type": "string"
        }
       ],
       "conversionMethod": "pd.DataFrame",
       "ref": "16313704-9bde-4f70-9625-ef64d2985ec0",
       "rows": [
        [
         "0",
         "1",
         "2767052",
         "The Hunger Games (The Hunger Games, #1)",
         "Suzanne Collins",
         "4.34",
         "4780653",
         "WINNING MEANS FAME AND FORTUNE.LOSING MEANS CERTAIN DEATH.THE HUNGER GAMES HAVE BEGUN. . . .In the ruins of a place once known as North America lies the nation of Panem, a shining Capitol surrounded by twelve outlying districts. The Capitol is harsh and cruel and keeps the districts in line by forcing them all to send one boy and once girl between the ages of twelve and eighteen to participate in the annual Hunger Games, a fight to the death on live TV.Sixteen-year-old Katniss Everdeen regards it as a death sentence when she steps forward to take her sister's place in the Games. But Katniss has been close to dead before—and survival, for her, is second nature. Without really meaning to, she becomes a contender. But if she is to win, she will have to start making choices that weight survival against humanity and life against love.",
         "['5-star', '5-stars', 'action', 'action-adventure', 'adventure', 'audio', 'audiobook', 'audiobooks', 'book-club', 'books', 'books-i-own', 'borrowed', 'coming-of-age', 'completed-series', 'contemporary', 'currently-reading', 'date_read_group', 'default', 'drama', 'dystopia', 'dystopian', 'e-book', 'ebook', 'ebooks', 'english', 'fantasy', 'fantasy_scifi_group', 'faves', 'favorites', 'fiction', 'finished', 'finished-series', 'futuristic', 'general_fiction_group', 'kindle', 'library', 'love', 'loved', 'my-books', 'my-library', 'post-apocalyptic', 'read-2011', 'read-2012', 'read-in-2010', 'read-in-2012', 'read-more-than-once', 'reviewed', 'romance', 'science-fiction', 'series', 'sf', 'speculative-fiction', 'survival', 'suspense', 'thriller', 'to-buy', 'to-read', 'trilogy', 'ya-lit', 'young-adult']",
         "5-star, 5-stars, action, action-adventure, adventure, audio, audiobook, audiobooks, book-club, books, books-i-own, borrowed, coming-of-age, completed-series, contemporary, currently-reading, date_read_group, default, drama, dystopia, dystopian, e-book, ebook, ebooks, english, fantasy, fantasy_scifi_group, faves, favorites, fiction, finished, finished-series, futuristic, general_fiction_group, kindle, library, love, loved, my-books, my-library, post-apocalyptic, read-2011, read-2012, read-in-2010, read-in-2012, read-more-than-once, reviewed, romance, science-fiction, series, sf, speculative-fiction, survival, suspense, thriller, to-buy, to-read, trilogy, ya-lit, young-adult"
        ],
        [
         "1",
         "2",
         "3",
         "Harry Potter and the Sorcerer's Stone (Harry Potter, #1)",
         "J.K. Rowling, Mary GrandPré",
         "4.44",
         "4602479",
         "Harry Potter's life is miserable. His parents are dead and he's stuck with his heartless relatives, who force him to live in a tiny closet under the stairs. But his fortune changes when he receives a letter that tells him the truth about himself: he's a wizard. A mysterious visitor rescues him from his relatives and takes him to his new home, Hogwarts School of Witchcraft and Wizardry.After a lifetime of bottling up his magical powers, Harry finally feels like a normal kid. But even within the Wizarding community, he is special. He is the boy who lived: the only person to have ever survived a killing curse inflicted by the evil Lord Voldemort, who launched a brutal takeover of the Wizarding world, only to vanish after failing to kill Harry.Though Harry's first year at Hogwarts is the best of his life, not everything is perfect. There is a dangerous secret object hidden within the castle walls, and Harry believes it's his responsibility to prevent it from falling into evil hands. But doing so will bring him into contact with forces more terrifying than he ever could have imagined.Full of sympathetic characters, wildly imaginative situations, and countless exciting details, the first installment in the series assembles an unforgettable magical world and sets the stage for many high-stakes adventures to come.",
         "['5-stars', 'adventure', 'audio', 'audiobook', 'audiobooks', 'books', 'books-i-own', 'british', \"children's\", 'classics', 'contemporary', 'currently-reading', 'date_read_group', 'default', 'ebook', 'england', 'english', 'fantasy', 'fantasy_scifi_group', 'faves', 'favorites', 'fiction', 'friendship', 'general_fiction_group', 'juvenile', 'kids-books', 'kindle', 'library', 'magic', 'my-books', 'my-library', 'mystery', 'on_shelf_group', 'paranormal', 'read-2015', 'read-2016', 'read-in-english', 'read-more-than-once', 'series', 'supernatural_group', 'to-buy', 'to-read', 'young-adult', 'youth']",
         "5-stars, adventure, audio, audiobook, audiobooks, books, books-i-own, british, children's, classics, contemporary, currently-reading, date_read_group, default, ebook, england, english, fantasy, fantasy_scifi_group, faves, favorites, fiction, friendship, general_fiction_group, juvenile, kids-books, kindle, library, magic, my-books, my-library, mystery, on_shelf_group, paranormal, read-2015, read-2016, read-in-english, read-more-than-once, series, supernatural_group, to-buy, to-read, young-adult, youth"
        ],
        [
         "2",
         "3",
         "41865",
         "Twilight (Twilight, #1)",
         "Stephenie Meyer",
         "3.57",
         "3866839",
         "About three things I was absolutely positive.\n\nFirst, Edward was a vampire.\n\nSecond, there was a part of him—and I didn't know how dominant that part might be—that thirsted for my blood.\n\nAnd third, I was unconditionally and irrevocably in love with him.\n\nDeeply seductive and extraordinarily suspenseful, Twilight is a love story with bite.",
         "['5-stars', 'abandoned', 'already-read', 'american', 'audiobook', 'audiobooks', 'book-club', 'books', 'books-i-own', 'chick-lit', 'completed-series', 'contemporary', 'currently-reading', 'date_read_group', 'default', 'dnf', 'drama', 'ebook', 'english', 'fantasy', 'fantasy_scifi_group', 'faves', 'favorites', 'fiction', 'finished', 'finished-series', 'first-in-series', 'general_fiction_group', 'guilty-pleasure', 'guilty-pleasures', 'have', 'high-school', 'horror', 'kindle', 'library', 'love', 'meh', 'movie', 'movies', 'my-books', 'my-library', 'on_shelf_group', 'paranormal', 'pnr', 'read-more-than-once', 'romance', 'science-fiction', 'supernatural_group', 'to-read', 'ya-lit', 'young-adult']",
         "5-stars, abandoned, already-read, american, audiobook, audiobooks, book-club, books, books-i-own, chick-lit, completed-series, contemporary, currently-reading, date_read_group, default, dnf, drama, ebook, english, fantasy, fantasy_scifi_group, faves, favorites, fiction, finished, finished-series, first-in-series, general_fiction_group, guilty-pleasure, guilty-pleasures, have, high-school, horror, kindle, library, love, meh, movie, movies, my-books, my-library, on_shelf_group, paranormal, pnr, read-more-than-once, romance, science-fiction, supernatural_group, to-read, ya-lit, young-adult"
        ],
        [
         "3",
         "4",
         "2657",
         "To Kill a Mockingbird",
         "Harper Lee",
         "4.25",
         "3198671",
         "The unforgettable novel of a childhood in a sleepy Southern town and the crisis of conscience that rocked it, To Kill A Mockingbird became both an instant bestseller and a critical success when it was first published in 1960. It went on to win the Pulitzer Prize in 1961 and was later made into an Academy Award-winning film, also a classic.Compassionate, dramatic, and deeply moving, To Kill A Mockingbird takes readers to the roots of human behavior - to innocence and experience, kindness and cruelty, love and hatred, humor and pathos. Now with over 18 million copies in print and translated into forty languages, this regional story by a young Alabama woman claims universal appeal. Harper Lee always considered her book to be a simple love story. Today it is regarded as a masterpiece of American literature.",
         "['5-stars', 'adult', 'adult-fiction', 'american', 'american-lit', 'american-literature', 'audio', 'audiobook', 'audiobooks', 'book-club', 'books', 'books-i-own', \"children's\", 'classics', 'coming-of-age', 'contemporary', 'currently-reading', 'date_read_group', 'default', 'drama', 'ebook', 'english', 'family', 'faves', 'favorites', 'fiction', 'for-school', 'general-fiction', 'general_fiction_group', 'high-school', 'historical', 'historical-fiction', 'history', 'kindle', 'library', 'literary-fiction', 'literature', 'must-read', 'my-books', 'my-library', 'mystery', 'mystery_thriller_group', 'read-2015', 'read-for-school', 'realistic-fiction', 'school', 'school-books', 'to-buy', 'to-read', 'to_read_1001_group', 'usa', 'young-adult']",
         "5-stars, adult, adult-fiction, american, american-lit, american-literature, audio, audiobook, audiobooks, book-club, books, books-i-own, children's, classics, coming-of-age, contemporary, currently-reading, date_read_group, default, drama, ebook, english, family, faves, favorites, fiction, for-school, general-fiction, general_fiction_group, high-school, historical, historical-fiction, history, kindle, library, literary-fiction, literature, must-read, my-books, my-library, mystery, mystery_thriller_group, read-2015, read-for-school, realistic-fiction, school, school-books, to-buy, to-read, to_read_1001_group, usa, young-adult"
        ],
        [
         "4",
         "5",
         "4671",
         "The Great Gatsby",
         "F. Scott Fitzgerald",
         "3.89",
         "2683664",
         "The Great Gatsby, F. Scott Fitzgerald's third book, stands as the supreme achievement of his career. This exemplary novel of the Jazz Age has been acclaimed by generations of readers. The story is of the fabulously wealthy Jay Gatsby and his new love for the beautiful Daisy Buchanan, of lavish parties on Long Island at a time when The New York Times noted \"gin was the national drink and sex the national obsession,\" it is an exquisitely crafted tale of America in the 1920s.The Great Gatsby is one of the great classics of twentieth-century literature.(back cover)",
         "['5-stars', 'adult', 'adult-fiction', 'america', 'american', 'american-lit', 'american-literature', 'audio', 'audiobook', 'audiobooks', 'book-club', 'books', 'books-i-own', 'classics', 'currently-reading', 'date_read_group', 'default', 'drama', 'ebook', 'ebooks', 'english', 'faves', 'favorites', 'fiction', 'finished', 'for-school', 'general-fiction', 'general_fiction_group', 'high-school', 'historical', 'historical-fiction', 'library', 'lit', 'literary-fiction', 'literature', 'love', 'my-books', 'my-library', 'new-york', 'on_shelf_group', 'read-2013', 'read-for-school', 'read-in-2012', 'read-in-english', 'read-more-than-once', 'realistic-fiction', 'romance', 'school', 'school-books', 'stand-alone', 'to-buy', 'to-read', 'to_read_1001_group', 'usa', 'young-adult']",
         "5-stars, adult, adult-fiction, america, american, american-lit, american-literature, audio, audiobook, audiobooks, book-club, books, books-i-own, classics, currently-reading, date_read_group, default, drama, ebook, ebooks, english, faves, favorites, fiction, finished, for-school, general-fiction, general_fiction_group, high-school, historical, historical-fiction, library, lit, literary-fiction, literature, love, my-books, my-library, new-york, on_shelf_group, read-2013, read-for-school, read-in-2012, read-in-english, read-more-than-once, realistic-fiction, romance, school, school-books, stand-alone, to-buy, to-read, to_read_1001_group, usa, young-adult"
        ]
       ],
       "shape": {
        "columns": 9,
        "rows": 5
       }
      },
      "text/html": [
       "<div>\n",
       "<style scoped>\n",
       "    .dataframe tbody tr th:only-of-type {\n",
       "        vertical-align: middle;\n",
       "    }\n",
       "\n",
       "    .dataframe tbody tr th {\n",
       "        vertical-align: top;\n",
       "    }\n",
       "\n",
       "    .dataframe thead th {\n",
       "        text-align: right;\n",
       "    }\n",
       "</style>\n",
       "<table border=\"1\" class=\"dataframe\">\n",
       "  <thead>\n",
       "    <tr style=\"text-align: right;\">\n",
       "      <th></th>\n",
       "      <th>book_id</th>\n",
       "      <th>goodreads_book_id</th>\n",
       "      <th>title</th>\n",
       "      <th>authors</th>\n",
       "      <th>average_rating</th>\n",
       "      <th>ratings_count</th>\n",
       "      <th>description</th>\n",
       "      <th>unique_tags</th>\n",
       "      <th>unique_tags_str</th>\n",
       "    </tr>\n",
       "  </thead>\n",
       "  <tbody>\n",
       "    <tr>\n",
       "      <th>0</th>\n",
       "      <td>1</td>\n",
       "      <td>2767052</td>\n",
       "      <td>The Hunger Games (The Hunger Games, #1)</td>\n",
       "      <td>Suzanne Collins</td>\n",
       "      <td>4.34</td>\n",
       "      <td>4780653</td>\n",
       "      <td>WINNING MEANS FAME AND FORTUNE.LOSING MEANS CE...</td>\n",
       "      <td>[5-star, 5-stars, action, action-adventure, ad...</td>\n",
       "      <td>5-star, 5-stars, action, action-adventure, adv...</td>\n",
       "    </tr>\n",
       "    <tr>\n",
       "      <th>1</th>\n",
       "      <td>2</td>\n",
       "      <td>3</td>\n",
       "      <td>Harry Potter and the Sorcerer's Stone (Harry P...</td>\n",
       "      <td>J.K. Rowling, Mary GrandPré</td>\n",
       "      <td>4.44</td>\n",
       "      <td>4602479</td>\n",
       "      <td>Harry Potter's life is miserable. His parents ...</td>\n",
       "      <td>[5-stars, adventure, audio, audiobook, audiobo...</td>\n",
       "      <td>5-stars, adventure, audio, audiobook, audioboo...</td>\n",
       "    </tr>\n",
       "    <tr>\n",
       "      <th>2</th>\n",
       "      <td>3</td>\n",
       "      <td>41865</td>\n",
       "      <td>Twilight (Twilight, #1)</td>\n",
       "      <td>Stephenie Meyer</td>\n",
       "      <td>3.57</td>\n",
       "      <td>3866839</td>\n",
       "      <td>About three things I was absolutely positive.\\...</td>\n",
       "      <td>[5-stars, abandoned, already-read, american, a...</td>\n",
       "      <td>5-stars, abandoned, already-read, american, au...</td>\n",
       "    </tr>\n",
       "    <tr>\n",
       "      <th>3</th>\n",
       "      <td>4</td>\n",
       "      <td>2657</td>\n",
       "      <td>To Kill a Mockingbird</td>\n",
       "      <td>Harper Lee</td>\n",
       "      <td>4.25</td>\n",
       "      <td>3198671</td>\n",
       "      <td>The unforgettable novel of a childhood in a sl...</td>\n",
       "      <td>[5-stars, adult, adult-fiction, american, amer...</td>\n",
       "      <td>5-stars, adult, adult-fiction, american, ameri...</td>\n",
       "    </tr>\n",
       "    <tr>\n",
       "      <th>4</th>\n",
       "      <td>5</td>\n",
       "      <td>4671</td>\n",
       "      <td>The Great Gatsby</td>\n",
       "      <td>F. Scott Fitzgerald</td>\n",
       "      <td>3.89</td>\n",
       "      <td>2683664</td>\n",
       "      <td>The Great Gatsby, F. Scott Fitzgerald's third ...</td>\n",
       "      <td>[5-stars, adult, adult-fiction, america, ameri...</td>\n",
       "      <td>5-stars, adult, adult-fiction, america, americ...</td>\n",
       "    </tr>\n",
       "  </tbody>\n",
       "</table>\n",
       "</div>"
      ],
      "text/plain": [
       "   book_id  goodreads_book_id  \\\n",
       "0        1            2767052   \n",
       "1        2                  3   \n",
       "2        3              41865   \n",
       "3        4               2657   \n",
       "4        5               4671   \n",
       "\n",
       "                                               title  \\\n",
       "0            The Hunger Games (The Hunger Games, #1)   \n",
       "1  Harry Potter and the Sorcerer's Stone (Harry P...   \n",
       "2                            Twilight (Twilight, #1)   \n",
       "3                              To Kill a Mockingbird   \n",
       "4                                   The Great Gatsby   \n",
       "\n",
       "                       authors  average_rating  ratings_count  \\\n",
       "0              Suzanne Collins            4.34        4780653   \n",
       "1  J.K. Rowling, Mary GrandPré            4.44        4602479   \n",
       "2              Stephenie Meyer            3.57        3866839   \n",
       "3                   Harper Lee            4.25        3198671   \n",
       "4          F. Scott Fitzgerald            3.89        2683664   \n",
       "\n",
       "                                         description  \\\n",
       "0  WINNING MEANS FAME AND FORTUNE.LOSING MEANS CE...   \n",
       "1  Harry Potter's life is miserable. His parents ...   \n",
       "2  About three things I was absolutely positive.\\...   \n",
       "3  The unforgettable novel of a childhood in a sl...   \n",
       "4  The Great Gatsby, F. Scott Fitzgerald's third ...   \n",
       "\n",
       "                                         unique_tags  \\\n",
       "0  [5-star, 5-stars, action, action-adventure, ad...   \n",
       "1  [5-stars, adventure, audio, audiobook, audiobo...   \n",
       "2  [5-stars, abandoned, already-read, american, a...   \n",
       "3  [5-stars, adult, adult-fiction, american, amer...   \n",
       "4  [5-stars, adult, adult-fiction, america, ameri...   \n",
       "\n",
       "                                     unique_tags_str  \n",
       "0  5-star, 5-stars, action, action-adventure, adv...  \n",
       "1  5-stars, adventure, audio, audiobook, audioboo...  \n",
       "2  5-stars, abandoned, already-read, american, au...  \n",
       "3  5-stars, adult, adult-fiction, american, ameri...  \n",
       "4  5-stars, adult, adult-fiction, america, americ...  "
      ]
     },
     "execution_count": 141,
     "metadata": {},
     "output_type": "execute_result"
    }
   ],
   "source": [
    "output.head()"
   ]
  },
  {
   "cell_type": "markdown",
   "id": "8d94566d",
   "metadata": {},
   "source": [
    "### Checking to see how much data we've filtered"
   ]
  },
  {
   "cell_type": "code",
   "execution_count": 84,
   "id": "c866c6e0",
   "metadata": {},
   "outputs": [
    {
     "name": "stdout",
     "output_type": "stream",
     "text": [
      "Original ratings: 5976479, Filtered ratings: 1185991, Difference: 4790488\n"
     ]
    }
   ],
   "source": [
    "print(f\"Original ratings: {len(org_ratings)}, Filtered ratings: {len(ratings)}, Difference: {len(org_ratings) - len(ratings)}\")"
   ]
  },
  {
   "cell_type": "code",
   "execution_count": 85,
   "id": "ef75cdbd",
   "metadata": {},
   "outputs": [
    {
     "name": "stdout",
     "output_type": "stream",
     "text": [
      "Original books: 10000, Filtered books: 10000, Difference: 0\n"
     ]
    }
   ],
   "source": [
    "print(f\"Original books: {len(org_books)}, Filtered books: {len(books)}, Difference: {len(org_books) - len(books)}\")"
   ]
  },
  {
   "cell_type": "code",
   "execution_count": 86,
   "id": "e5efd5fe",
   "metadata": {},
   "outputs": [
    {
     "name": "stdout",
     "output_type": "stream",
     "text": [
      "Original users: 53424, Filtered users: 10505, Difference: 42919\n"
     ]
    }
   ],
   "source": [
    "print(f\"Original users: {org_ratings['user_id'].nunique()}, Filtered users: {ratings['user_id'].nunique()}, Difference: {org_ratings['user_id'].nunique() - ratings['user_id'].nunique()}\")"
   ]
  }
 ],
 "metadata": {
  "kernelspec": {
   "display_name": "jupyterenv",
   "language": "python",
   "name": "python3"
  },
  "language_info": {
   "codemirror_mode": {
    "name": "ipython",
    "version": 3
   },
   "file_extension": ".py",
   "mimetype": "text/x-python",
   "name": "python",
   "nbconvert_exporter": "python",
   "pygments_lexer": "ipython3",
   "version": "3.11.6"
  }
 },
 "nbformat": 4,
 "nbformat_minor": 5
}
